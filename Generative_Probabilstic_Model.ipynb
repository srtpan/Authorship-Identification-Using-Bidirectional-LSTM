{
 "cells": [
  {
   "cell_type": "code",
   "execution_count": 2,
   "id": "4a07af5b",
   "metadata": {},
   "outputs": [],
   "source": [
    "#importing all the libraries required for analysis\n",
    "\n",
    "import numpy as np\n",
    "import pandas as pd\n",
    "import glob, csv\n",
    "from sklearn.model_selection import StratifiedShuffleSplit\n",
    "\n",
    "import numpy as np, pandas as pd\n",
    "import seaborn as sns\n",
    "import matplotlib.pyplot as plt\n",
    "from sklearn.datasets import fetch_20newsgroups\n",
    "from sklearn.feature_extraction.text import TfidfVectorizer\n",
    "from sklearn.naive_bayes import MultinomialNB\n",
    "from sklearn.pipeline import make_pipeline\n",
    "from sklearn.metrics import confusion_matrix, accuracy_score\n",
    "sns.set() # use seaborn plotting style"
   ]
  },
  {
   "cell_type": "markdown",
   "id": "d922d0d5",
   "metadata": {},
   "source": [
    "## Reuters 50 50 data"
   ]
  },
  {
   "cell_type": "code",
   "execution_count": 3,
   "id": "4fb0e2ad",
   "metadata": {
    "collapsed": true
   },
   "outputs": [
    {
     "name": "stderr",
     "output_type": "stream",
     "text": [
      "b'Skipping line 27: expected 1 fields, saw 7\\nSkipping line 28: expected 1 fields, saw 7\\nSkipping line 29: expected 1 fields, saw 4\\nSkipping line 30: expected 1 fields, saw 8\\nSkipping line 31: expected 1 fields, saw 6\\nSkipping line 32: expected 1 fields, saw 6\\nSkipping line 33: expected 1 fields, saw 6\\n'\n",
      "b'Skipping line 23: expected 1 fields, saw 8\\nSkipping line 24: expected 1 fields, saw 6\\nSkipping line 25: expected 1 fields, saw 4\\nSkipping line 27: expected 1 fields, saw 6\\nSkipping line 28: expected 1 fields, saw 5\\nSkipping line 29: expected 1 fields, saw 6\\n'\n",
      "b'Skipping line 25: expected 1 fields, saw 8\\nSkipping line 26: expected 1 fields, saw 6\\nSkipping line 27: expected 1 fields, saw 4\\nSkipping line 28: expected 1 fields, saw 7\\nSkipping line 29: expected 1 fields, saw 6\\nSkipping line 30: expected 1 fields, saw 5\\nSkipping line 31: expected 1 fields, saw 6\\n'\n",
      "b'Skipping line 21: expected 1 fields, saw 7\\nSkipping line 22: expected 1 fields, saw 5\\nSkipping line 23: expected 1 fields, saw 3\\nSkipping line 24: expected 1 fields, saw 6\\nSkipping line 25: expected 1 fields, saw 3\\nSkipping line 26: expected 1 fields, saw 4\\nSkipping line 27: expected 1 fields, saw 5\\n'\n",
      "b'Skipping line 19: expected 1 fields, saw 2\\nSkipping line 21: expected 1 fields, saw 2\\nSkipping line 22: expected 1 fields, saw 2\\nSkipping line 23: expected 1 fields, saw 2\\nSkipping line 24: expected 1 fields, saw 2\\nSkipping line 26: expected 1 fields, saw 2\\n'\n",
      "b'Skipping line 16: expected 1 fields, saw 6\\nSkipping line 17: expected 1 fields, saw 6\\nSkipping line 18: expected 1 fields, saw 6\\nSkipping line 19: expected 1 fields, saw 4\\nSkipping line 20: expected 1 fields, saw 5\\nSkipping line 21: expected 1 fields, saw 6\\n'\n",
      "b'Skipping line 14: expected 1 fields, saw 4\\nSkipping line 15: expected 1 fields, saw 5\\nSkipping line 16: expected 1 fields, saw 4\\nSkipping line 17: expected 1 fields, saw 4\\nSkipping line 18: expected 1 fields, saw 2\\nSkipping line 19: expected 1 fields, saw 4\\n'\n",
      "b'Skipping line 46: expected 1 fields, saw 4\\nSkipping line 47: expected 1 fields, saw 2\\nSkipping line 48: expected 1 fields, saw 3\\nSkipping line 50: expected 1 fields, saw 4\\nSkipping line 51: expected 1 fields, saw 7\\nSkipping line 52: expected 1 fields, saw 4\\nSkipping line 53: expected 1 fields, saw 2\\nSkipping line 55: expected 1 fields, saw 4\\nSkipping line 59: expected 1 fields, saw 3\\nSkipping line 60: expected 1 fields, saw 4\\nSkipping line 61: expected 1 fields, saw 4\\nSkipping line 62: expected 1 fields, saw 4\\nSkipping line 63: expected 1 fields, saw 2\\n'\n",
      "b'Skipping line 12: expected 1 fields, saw 4\\nSkipping line 13: expected 1 fields, saw 3\\nSkipping line 14: expected 1 fields, saw 6\\nSkipping line 15: expected 1 fields, saw 7\\nSkipping line 16: expected 1 fields, saw 7\\nSkipping line 17: expected 1 fields, saw 7\\nSkipping line 18: expected 1 fields, saw 7\\nSkipping line 19: expected 1 fields, saw 7\\nSkipping line 20: expected 1 fields, saw 7\\nSkipping line 21: expected 1 fields, saw 7\\nSkipping line 22: expected 1 fields, saw 7\\n'\n",
      "b'Skipping line 35: expected 1 fields, saw 4\\nSkipping line 36: expected 1 fields, saw 3\\nSkipping line 37: expected 1 fields, saw 6\\nSkipping line 38: expected 1 fields, saw 7\\nSkipping line 39: expected 1 fields, saw 7\\nSkipping line 40: expected 1 fields, saw 7\\nSkipping line 41: expected 1 fields, saw 7\\nSkipping line 42: expected 1 fields, saw 7\\nSkipping line 43: expected 1 fields, saw 7\\nSkipping line 44: expected 1 fields, saw 7\\nSkipping line 45: expected 1 fields, saw 7\\n'\n",
      "b'Skipping line 11: expected 1 fields, saw 4\\nSkipping line 12: expected 1 fields, saw 4\\nSkipping line 13: expected 1 fields, saw 5\\nSkipping line 14: expected 1 fields, saw 3\\nSkipping line 15: expected 1 fields, saw 3\\nSkipping line 16: expected 1 fields, saw 5\\nSkipping line 17: expected 1 fields, saw 6\\nSkipping line 18: expected 1 fields, saw 5\\nSkipping line 19: expected 1 fields, saw 6\\n'\n",
      "b'Skipping line 12: expected 1 fields, saw 5\\nSkipping line 13: expected 1 fields, saw 4\\nSkipping line 14: expected 1 fields, saw 5\\nSkipping line 15: expected 1 fields, saw 3\\nSkipping line 16: expected 1 fields, saw 6\\nSkipping line 17: expected 1 fields, saw 5\\nSkipping line 18: expected 1 fields, saw 3\\nSkipping line 19: expected 1 fields, saw 4\\nSkipping line 20: expected 1 fields, saw 4\\nSkipping line 21: expected 1 fields, saw 5\\n'\n",
      "b'Skipping line 11: expected 1 fields, saw 4\\nSkipping line 12: expected 1 fields, saw 3\\nSkipping line 13: expected 1 fields, saw 3\\nSkipping line 14: expected 1 fields, saw 3\\nSkipping line 15: expected 1 fields, saw 4\\nSkipping line 16: expected 1 fields, saw 3\\nSkipping line 17: expected 1 fields, saw 5\\nSkipping line 18: expected 1 fields, saw 4\\nSkipping line 19: expected 1 fields, saw 5\\n'\n",
      "b'Skipping line 11: expected 1 fields, saw 4\\nSkipping line 12: expected 1 fields, saw 5\\nSkipping line 13: expected 1 fields, saw 4\\nSkipping line 14: expected 1 fields, saw 5\\nSkipping line 15: expected 1 fields, saw 4\\nSkipping line 16: expected 1 fields, saw 5\\nSkipping line 17: expected 1 fields, saw 4\\nSkipping line 18: expected 1 fields, saw 4\\nSkipping line 19: expected 1 fields, saw 5\\nSkipping line 20: expected 1 fields, saw 3\\n'\n",
      "b'Skipping line 13: expected 1 fields, saw 5\\n'\n",
      "b'Skipping line 8: expected 1 fields, saw 6\\n'\n",
      "b'Skipping line 11: expected 1 fields, saw 5\\n'\n",
      "b'Skipping line 4: expected 1 fields, saw 4\\nSkipping line 5: expected 1 fields, saw 4\\nSkipping line 6: expected 1 fields, saw 7\\nSkipping line 7: expected 1 fields, saw 3\\nSkipping line 8: expected 1 fields, saw 4\\nSkipping line 9: expected 1 fields, saw 2\\nSkipping line 10: expected 1 fields, saw 4\\nSkipping line 11: expected 1 fields, saw 4\\nSkipping line 12: expected 1 fields, saw 4\\nSkipping line 13: expected 1 fields, saw 3\\nSkipping line 14: expected 1 fields, saw 3\\nSkipping line 15: expected 1 fields, saw 3\\nSkipping line 16: expected 1 fields, saw 3\\nSkipping line 17: expected 1 fields, saw 3\\nSkipping line 18: expected 1 fields, saw 4\\nSkipping line 19: expected 1 fields, saw 3\\nSkipping line 20: expected 1 fields, saw 4\\nSkipping line 21: expected 1 fields, saw 4\\n'\n",
      "b'Skipping line 4: expected 1 fields, saw 3\\nSkipping line 5: expected 1 fields, saw 5\\nSkipping line 6: expected 1 fields, saw 8\\nSkipping line 7: expected 1 fields, saw 6\\nSkipping line 8: expected 1 fields, saw 4\\nSkipping line 9: expected 1 fields, saw 4\\nSkipping line 10: expected 1 fields, saw 3\\nSkipping line 11: expected 1 fields, saw 5\\nSkipping line 12: expected 1 fields, saw 4\\nSkipping line 13: expected 1 fields, saw 5\\nSkipping line 14: expected 1 fields, saw 5\\nSkipping line 15: expected 1 fields, saw 4\\nSkipping line 16: expected 1 fields, saw 5\\nSkipping line 17: expected 1 fields, saw 6\\nSkipping line 18: expected 1 fields, saw 5\\nSkipping line 19: expected 1 fields, saw 5\\n'\n",
      "b'Skipping line 3: expected 1 fields, saw 2\\nSkipping line 6: expected 1 fields, saw 5\\nSkipping line 7: expected 1 fields, saw 2\\nSkipping line 9: expected 1 fields, saw 5\\nSkipping line 10: expected 1 fields, saw 4\\nSkipping line 12: expected 1 fields, saw 5\\nSkipping line 13: expected 1 fields, saw 2\\nSkipping line 15: expected 1 fields, saw 5\\nSkipping line 16: expected 1 fields, saw 2\\nSkipping line 18: expected 1 fields, saw 5\\nSkipping line 19: expected 1 fields, saw 4\\nSkipping line 21: expected 1 fields, saw 4\\nSkipping line 22: expected 1 fields, saw 2\\nSkipping line 23: expected 1 fields, saw 2\\nSkipping line 26: expected 1 fields, saw 4\\nSkipping line 27: expected 1 fields, saw 3\\nSkipping line 29: expected 1 fields, saw 5\\nSkipping line 30: expected 1 fields, saw 5\\nSkipping line 32: expected 1 fields, saw 4\\nSkipping line 33: expected 1 fields, saw 3\\nSkipping line 35: expected 1 fields, saw 4\\nSkipping line 36: expected 1 fields, saw 3\\nSkipping line 38: expected 1 fields, saw 5\\nSkipping line 39: expected 1 fields, saw 5\\nSkipping line 41: expected 1 fields, saw 4\\nSkipping line 42: expected 1 fields, saw 3\\n'\n",
      "b'Skipping line 4: expected 1 fields, saw 8\\nSkipping line 5: expected 1 fields, saw 5\\nSkipping line 6: expected 1 fields, saw 8\\nSkipping line 7: expected 1 fields, saw 8\\nSkipping line 8: expected 1 fields, saw 5\\nSkipping line 9: expected 1 fields, saw 8\\nSkipping line 10: expected 1 fields, saw 8\\nSkipping line 11: expected 1 fields, saw 5\\nSkipping line 12: expected 1 fields, saw 7\\nSkipping line 13: expected 1 fields, saw 5\\nSkipping line 14: expected 1 fields, saw 8\\nSkipping line 15: expected 1 fields, saw 7\\nSkipping line 16: expected 1 fields, saw 6\\n'\n",
      "b'Skipping line 13: expected 1 fields, saw 7\\nSkipping line 14: expected 1 fields, saw 6\\nSkipping line 15: expected 1 fields, saw 5\\nSkipping line 16: expected 1 fields, saw 3\\nSkipping line 17: expected 1 fields, saw 3\\nSkipping line 18: expected 1 fields, saw 4\\nSkipping line 19: expected 1 fields, saw 5\\nSkipping line 20: expected 1 fields, saw 4\\nSkipping line 21: expected 1 fields, saw 4\\nSkipping line 22: expected 1 fields, saw 6\\nSkipping line 23: expected 1 fields, saw 3\\nSkipping line 24: expected 1 fields, saw 4\\nSkipping line 25: expected 1 fields, saw 5\\nSkipping line 26: expected 1 fields, saw 6\\n'\n",
      "b'Skipping line 19: expected 1 fields, saw 2\\n'\n",
      "b'Skipping line 92: expected 1 fields, saw 3\\nSkipping line 93: expected 1 fields, saw 4\\nSkipping line 94: expected 1 fields, saw 2\\nSkipping line 95: expected 1 fields, saw 4\\nSkipping line 99: expected 1 fields, saw 3\\nSkipping line 100: expected 1 fields, saw 3\\nSkipping line 101: expected 1 fields, saw 2\\n'\n",
      "b'Skipping line 34: expected 1 fields, saw 3\\nSkipping line 35: expected 1 fields, saw 4\\nSkipping line 36: expected 1 fields, saw 2\\nSkipping line 38: expected 1 fields, saw 4\\nSkipping line 41: expected 1 fields, saw 3\\nSkipping line 42: expected 1 fields, saw 3\\nSkipping line 43: expected 1 fields, saw 2\\n'\n",
      "b'Skipping line 38: expected 1 fields, saw 3\\nSkipping line 39: expected 1 fields, saw 4\\nSkipping line 40: expected 1 fields, saw 2\\nSkipping line 41: expected 1 fields, saw 5\\nSkipping line 42: expected 1 fields, saw 2\\nSkipping line 44: expected 1 fields, saw 2\\nSkipping line 45: expected 1 fields, saw 5\\nSkipping line 46: expected 1 fields, saw 2\\n'\n",
      "b'Skipping line 38: expected 1 fields, saw 3\\nSkipping line 39: expected 1 fields, saw 4\\nSkipping line 40: expected 1 fields, saw 2\\nSkipping line 41: expected 1 fields, saw 5\\nSkipping line 42: expected 1 fields, saw 2\\nSkipping line 44: expected 1 fields, saw 2\\nSkipping line 45: expected 1 fields, saw 5\\nSkipping line 46: expected 1 fields, saw 2\\n'\n",
      "b'Skipping line 38: expected 1 fields, saw 3\\nSkipping line 39: expected 1 fields, saw 4\\nSkipping line 40: expected 1 fields, saw 2\\nSkipping line 41: expected 1 fields, saw 2\\nSkipping line 42: expected 1 fields, saw 4\\nSkipping line 44: expected 1 fields, saw 4\\nSkipping line 45: expected 1 fields, saw 2\\n'\n"
     ]
    },
    {
     "name": "stderr",
     "output_type": "stream",
     "text": [
      "b'Skipping line 16: expected 1 fields, saw 4\\nSkipping line 17: expected 1 fields, saw 4\\nSkipping line 18: expected 1 fields, saw 3\\nSkipping line 19: expected 1 fields, saw 3\\nSkipping line 20: expected 1 fields, saw 3\\nSkipping line 21: expected 1 fields, saw 4\\nSkipping line 22: expected 1 fields, saw 5\\nSkipping line 23: expected 1 fields, saw 3\\nSkipping line 24: expected 1 fields, saw 4\\n'\n",
      "b'Skipping line 18: expected 1 fields, saw 4\\nSkipping line 19: expected 1 fields, saw 3\\nSkipping line 20: expected 1 fields, saw 2\\nSkipping line 22: expected 1 fields, saw 3\\nSkipping line 23: expected 1 fields, saw 2\\nSkipping line 24: expected 1 fields, saw 2\\nSkipping line 25: expected 1 fields, saw 2\\n'\n"
     ]
    }
   ],
   "source": [
    "#creating a train dataframe to get the author's names and text from each file in the C50 dataset\n",
    "\n",
    "train_df = pd.DataFrame()\n",
    "df = pd.DataFrame()\n",
    "for _, filepath in enumerate(glob.iglob('/Users/srtpan/Downloads/C50/C50train/*/*.txt')):\n",
    "    df = pd.read_csv(filepath, delimiter=\"\\t\", header = None, error_bad_lines=False, quoting = csv.QUOTE_NONE, encoding='utf-8')\n",
    "    df['Author'] = filepath.split(\"/\")[6]\n",
    "    dataframe = [train_df, df]\n",
    "    train_df = pd.concat(dataframe)\n",
    "    \n",
    "train_df.rename(columns={ 0 : 'Text'}, inplace=True)"
   ]
  },
  {
   "cell_type": "code",
   "execution_count": 4,
   "id": "b0fd170d",
   "metadata": {
    "collapsed": true
   },
   "outputs": [
    {
     "name": "stderr",
     "output_type": "stream",
     "text": [
      "b'Skipping line 16: expected 1 fields, saw 4\\nSkipping line 17: expected 1 fields, saw 2\\nSkipping line 18: expected 1 fields, saw 2\\nSkipping line 20: expected 1 fields, saw 5\\nSkipping line 21: expected 1 fields, saw 4\\nSkipping line 22: expected 1 fields, saw 2\\n'\n",
      "b'Skipping line 12: expected 1 fields, saw 2\\n'\n",
      "b'Skipping line 18: expected 1 fields, saw 7\\nSkipping line 19: expected 1 fields, saw 4\\nSkipping line 20: expected 1 fields, saw 4\\nSkipping line 21: expected 1 fields, saw 6\\nSkipping line 22: expected 1 fields, saw 5\\n'\n",
      "b'Skipping line 19: expected 1 fields, saw 7\\nSkipping line 20: expected 1 fields, saw 5\\nSkipping line 21: expected 1 fields, saw 4\\nSkipping line 22: expected 1 fields, saw 6\\nSkipping line 23: expected 1 fields, saw 3\\n'\n",
      "b'Skipping line 28: expected 1 fields, saw 7\\nSkipping line 29: expected 1 fields, saw 7\\nSkipping line 30: expected 1 fields, saw 3\\nSkipping line 31: expected 1 fields, saw 7\\nSkipping line 32: expected 1 fields, saw 6\\nSkipping line 33: expected 1 fields, saw 4\\nSkipping line 34: expected 1 fields, saw 5\\nSkipping line 35: expected 1 fields, saw 2\\nSkipping line 36: expected 1 fields, saw 8\\nSkipping line 37: expected 1 fields, saw 4\\n'\n",
      "b'Skipping line 23: expected 1 fields, saw 7\\nSkipping line 24: expected 1 fields, saw 4\\nSkipping line 27: expected 1 fields, saw 4\\nSkipping line 29: expected 1 fields, saw 6\\nSkipping line 30: expected 1 fields, saw 6\\n'\n",
      "b'Skipping line 22: expected 1 fields, saw 7\\nSkipping line 23: expected 1 fields, saw 7\\nSkipping line 25: expected 1 fields, saw 5\\nSkipping line 26: expected 1 fields, saw 5\\nSkipping line 27: expected 1 fields, saw 8\\nSkipping line 28: expected 1 fields, saw 4\\nSkipping line 29: expected 1 fields, saw 3\\nSkipping line 31: expected 1 fields, saw 7\\nSkipping line 32: expected 1 fields, saw 5\\nSkipping line 33: expected 1 fields, saw 4\\n'\n",
      "b'Skipping line 18: expected 1 fields, saw 7\\nSkipping line 19: expected 1 fields, saw 6\\nSkipping line 22: expected 1 fields, saw 7\\nSkipping line 23: expected 1 fields, saw 6\\nSkipping line 24: expected 1 fields, saw 8\\nSkipping line 25: expected 1 fields, saw 3\\nSkipping line 29: expected 1 fields, saw 7\\nSkipping line 30: expected 1 fields, saw 5\\nSkipping line 31: expected 1 fields, saw 4\\n'\n",
      "b'Skipping line 27: expected 1 fields, saw 6\\nSkipping line 28: expected 1 fields, saw 2\\nSkipping line 29: expected 1 fields, saw 3\\nSkipping line 30: expected 1 fields, saw 4\\nSkipping line 31: expected 1 fields, saw 6\\nSkipping line 32: expected 1 fields, saw 3\\nSkipping line 33: expected 1 fields, saw 3\\nSkipping line 34: expected 1 fields, saw 5\\n'\n",
      "b'Skipping line 25: expected 1 fields, saw 7\\nSkipping line 26: expected 1 fields, saw 7\\nSkipping line 27: expected 1 fields, saw 3\\nSkipping line 28: expected 1 fields, saw 6\\nSkipping line 29: expected 1 fields, saw 6\\nSkipping line 30: expected 1 fields, saw 5\\nSkipping line 31: expected 1 fields, saw 3\\n'\n",
      "b'Skipping line 17: expected 1 fields, saw 2\\n'\n",
      "b'Skipping line 16: expected 1 fields, saw 2\\n'\n",
      "b'Skipping line 16: expected 1 fields, saw 2\\n'\n",
      "b'Skipping line 11: expected 1 fields, saw 2\\n'\n",
      "b'Skipping line 17: expected 1 fields, saw 2\\n'\n",
      "b'Skipping line 21: expected 1 fields, saw 6\\n'\n",
      "b'Skipping line 16: expected 1 fields, saw 2\\n'\n",
      "b'Skipping line 14: expected 1 fields, saw 6\\n'\n",
      "b'Skipping line 12: expected 1 fields, saw 6\\n'\n",
      "b'Skipping line 21: expected 1 fields, saw 2\\n'\n",
      "b'Skipping line 3: expected 1 fields, saw 4\\nSkipping line 4: expected 1 fields, saw 5\\nSkipping line 5: expected 1 fields, saw 8\\nSkipping line 6: expected 1 fields, saw 4\\nSkipping line 7: expected 1 fields, saw 2\\nSkipping line 8: expected 1 fields, saw 2\\nSkipping line 9: expected 1 fields, saw 2\\nSkipping line 10: expected 1 fields, saw 3\\nSkipping line 11: expected 1 fields, saw 2\\nSkipping line 12: expected 1 fields, saw 2\\nSkipping line 13: expected 1 fields, saw 3\\nSkipping line 14: expected 1 fields, saw 3\\nSkipping line 15: expected 1 fields, saw 3\\nSkipping line 16: expected 1 fields, saw 5\\nSkipping line 17: expected 1 fields, saw 2\\nSkipping line 18: expected 1 fields, saw 3\\n'\n",
      "b'Skipping line 4: expected 1 fields, saw 3\\nSkipping line 5: expected 1 fields, saw 5\\nSkipping line 6: expected 1 fields, saw 8\\nSkipping line 7: expected 1 fields, saw 5\\nSkipping line 8: expected 1 fields, saw 2\\nSkipping line 9: expected 1 fields, saw 2\\nSkipping line 11: expected 1 fields, saw 3\\nSkipping line 12: expected 1 fields, saw 2\\nSkipping line 13: expected 1 fields, saw 2\\nSkipping line 14: expected 1 fields, saw 3\\nSkipping line 15: expected 1 fields, saw 4\\nSkipping line 16: expected 1 fields, saw 3\\nSkipping line 17: expected 1 fields, saw 4\\nSkipping line 18: expected 1 fields, saw 3\\nSkipping line 19: expected 1 fields, saw 3\\n'\n",
      "b'Skipping line 3: expected 1 fields, saw 3\\nSkipping line 4: expected 1 fields, saw 5\\nSkipping line 5: expected 1 fields, saw 8\\nSkipping line 6: expected 1 fields, saw 2\\nSkipping line 7: expected 1 fields, saw 2\\nSkipping line 9: expected 1 fields, saw 2\\nSkipping line 10: expected 1 fields, saw 2\\nSkipping line 11: expected 1 fields, saw 3\\nSkipping line 12: expected 1 fields, saw 2\\nSkipping line 13: expected 1 fields, saw 2\\nSkipping line 14: expected 1 fields, saw 2\\nSkipping line 15: expected 1 fields, saw 2\\nSkipping line 16: expected 1 fields, saw 2\\nSkipping line 17: expected 1 fields, saw 2\\nSkipping line 18: expected 1 fields, saw 2\\nSkipping line 19: expected 1 fields, saw 3\\nSkipping line 20: expected 1 fields, saw 3\\n'\n",
      "b'Skipping line 5: expected 1 fields, saw 4\\nSkipping line 6: expected 1 fields, saw 5\\nSkipping line 7: expected 1 fields, saw 8\\nSkipping line 8: expected 1 fields, saw 2\\nSkipping line 9: expected 1 fields, saw 3\\nSkipping line 11: expected 1 fields, saw 3\\nSkipping line 12: expected 1 fields, saw 3\\nSkipping line 13: expected 1 fields, saw 3\\nSkipping line 14: expected 1 fields, saw 2\\nSkipping line 15: expected 1 fields, saw 2\\nSkipping line 16: expected 1 fields, saw 2\\nSkipping line 17: expected 1 fields, saw 2\\nSkipping line 18: expected 1 fields, saw 3\\nSkipping line 19: expected 1 fields, saw 2\\nSkipping line 20: expected 1 fields, saw 2\\nSkipping line 21: expected 1 fields, saw 4\\nSkipping line 22: expected 1 fields, saw 3\\nSkipping line 23: expected 1 fields, saw 2\\n'\n",
      "b'Skipping line 13: expected 1 fields, saw 7\\nSkipping line 14: expected 1 fields, saw 7\\nSkipping line 15: expected 1 fields, saw 5\\nSkipping line 16: expected 1 fields, saw 3\\nSkipping line 17: expected 1 fields, saw 5\\nSkipping line 18: expected 1 fields, saw 3\\nSkipping line 19: expected 1 fields, saw 5\\nSkipping line 20: expected 1 fields, saw 6\\nSkipping line 21: expected 1 fields, saw 3\\nSkipping line 22: expected 1 fields, saw 4\\nSkipping line 23: expected 1 fields, saw 4\\nSkipping line 24: expected 1 fields, saw 5\\nSkipping line 25: expected 1 fields, saw 4\\nSkipping line 26: expected 1 fields, saw 3\\n'\n",
      "b'Skipping line 29: expected 1 fields, saw 3\\nSkipping line 30: expected 1 fields, saw 4\\nSkipping line 31: expected 1 fields, saw 2\\nSkipping line 33: expected 1 fields, saw 3\\nSkipping line 34: expected 1 fields, saw 4\\nSkipping line 35: expected 1 fields, saw 2\\nSkipping line 37: expected 1 fields, saw 3\\nSkipping line 38: expected 1 fields, saw 2\\n'\n",
      "b'Skipping line 83: expected 1 fields, saw 3\\nSkipping line 84: expected 1 fields, saw 4\\nSkipping line 85: expected 1 fields, saw 2\\nSkipping line 87: expected 1 fields, saw 3\\nSkipping line 88: expected 1 fields, saw 4\\nSkipping line 89: expected 1 fields, saw 2\\nSkipping line 91: expected 1 fields, saw 3\\nSkipping line 92: expected 1 fields, saw 2\\n'\n",
      "b'Skipping line 33: expected 1 fields, saw 3\\nSkipping line 34: expected 1 fields, saw 4\\nSkipping line 35: expected 1 fields, saw 2\\nSkipping line 36: expected 1 fields, saw 4\\nSkipping line 40: expected 1 fields, saw 3\\nSkipping line 41: expected 1 fields, saw 3\\nSkipping line 42: expected 1 fields, saw 2\\n'\n",
      "b'Skipping line 31: expected 1 fields, saw 3\\nSkipping line 32: expected 1 fields, saw 4\\nSkipping line 33: expected 1 fields, saw 2\\nSkipping line 36: expected 1 fields, saw 4\\nSkipping line 37: expected 1 fields, saw 2\\nSkipping line 39: expected 1 fields, saw 3\\nSkipping line 40: expected 1 fields, saw 2\\n'\n"
     ]
    },
    {
     "name": "stderr",
     "output_type": "stream",
     "text": [
      "b'Skipping line 10: expected 1 fields, saw 5\\nSkipping line 11: expected 1 fields, saw 5\\nSkipping line 12: expected 1 fields, saw 4\\nSkipping line 13: expected 1 fields, saw 3\\nSkipping line 14: expected 1 fields, saw 4\\nSkipping line 15: expected 1 fields, saw 3\\nSkipping line 16: expected 1 fields, saw 4\\nSkipping line 17: expected 1 fields, saw 3\\nSkipping line 18: expected 1 fields, saw 2\\nSkipping line 19: expected 1 fields, saw 5\\nSkipping line 21: expected 1 fields, saw 4\\nSkipping line 22: expected 1 fields, saw 3\\nSkipping line 23: expected 1 fields, saw 9\\nSkipping line 24: expected 1 fields, saw 2\\nSkipping line 25: expected 1 fields, saw 9\\nSkipping line 26: expected 1 fields, saw 4\\nSkipping line 27: expected 1 fields, saw 9\\nSkipping line 28: expected 1 fields, saw 9\\n'\n",
      "b'Skipping line 11: expected 1 fields, saw 2\\n'\n"
     ]
    }
   ],
   "source": [
    "#creating a test dataframe to get the author's names and text from each file in the C50 dataset\n",
    "\n",
    "test_df = pd.DataFrame()\n",
    "df = pd.DataFrame()\n",
    "for _, filepath in enumerate(glob.iglob('/Users/srtpan/Downloads/C50/C50test/*/*.txt')):\n",
    "    df = pd.read_csv(filepath, delimiter=\"\\t\", header = None, error_bad_lines=False, quoting = csv.QUOTE_NONE, encoding='utf-8')\n",
    "    df['Author'] = filepath.split(\"/\")[6]\n",
    "    dataframe = [test_df, df]\n",
    "    test_df = pd.concat(dataframe)\n",
    "    \n",
    "test_df.rename(columns={ 0 : 'Text'}, inplace=True)"
   ]
  },
  {
   "cell_type": "code",
   "execution_count": 5,
   "id": "e6d83551",
   "metadata": {},
   "outputs": [
    {
     "name": "stdout",
     "output_type": "stream",
     "text": [
      "<class 'pandas.core.frame.DataFrame'>\n",
      "Int64Index: 78408 entries, 0 to 87391\n",
      "Data columns (total 2 columns):\n",
      " #   Column  Non-Null Count  Dtype \n",
      "---  ------  --------------  ----- \n",
      " 0   Text    78408 non-null  object\n",
      " 1   Author  78408 non-null  object\n",
      "dtypes: object(2)\n",
      "memory usage: 1.8+ MB\n"
     ]
    }
   ],
   "source": [
    "#combining both dataset\n",
    "\n",
    "c50_df=train_df.append(test_df, ignore_index=True)\n",
    "c50_df = c50_df.drop_duplicates()\n",
    "c50_df.info()"
   ]
  },
  {
   "cell_type": "code",
   "execution_count": 6,
   "id": "5b79559e",
   "metadata": {},
   "outputs": [
    {
     "name": "stdout",
     "output_type": "stream",
     "text": [
      "39498\n"
     ]
    }
   ],
   "source": [
    "from sklearn.feature_extraction.text import CountVectorizer\n",
    "corpus = c50_df['Text']\n",
    "vectorizer = CountVectorizer()\n",
    "X = vectorizer.fit_transform(corpus)\n",
    "print(len(vectorizer.get_feature_names_out()))"
   ]
  },
  {
   "cell_type": "code",
   "execution_count": 10,
   "id": "cbebc92e",
   "metadata": {},
   "outputs": [],
   "source": [
    "#defining X and y, the independent and depenedent variable\n",
    "def train_test_split(dataframe):\n",
    "    X=dataframe['Text']\n",
    "    y=dataframe['Author']\n",
    "\n",
    "  #using the stratfiedshufflesplit\n",
    "    split=StratifiedShuffleSplit(n_splits=1, test_size=0.2, random_state=9)\n",
    "    split.get_n_splits(X, y)\n",
    "\n",
    "  #creating the test and train dataframes using the stratifiedshufflesplit module\n",
    "    for i, (train_index, test_index) in enumerate(split.split(X, y)):\n",
    "        train=dataframe.iloc[train_index,:]\n",
    "        test=dataframe.iloc[test_index,:]\n",
    "    return train,test"
   ]
  },
  {
   "cell_type": "code",
   "execution_count": 11,
   "id": "cf595898",
   "metadata": {},
   "outputs": [],
   "source": [
    "train_data,test_data=train_test_split(c50_df)"
   ]
  },
  {
   "cell_type": "code",
   "execution_count": 12,
   "id": "6503f6b3",
   "metadata": {},
   "outputs": [
    {
     "name": "stdout",
     "output_type": "stream",
     "text": [
      "The accuracy is 0.6243463843897462\n"
     ]
    }
   ],
   "source": [
    "# Build the model\n",
    "model = make_pipeline(TfidfVectorizer(), MultinomialNB())\n",
    "# Train the model using the training data\n",
    "model.fit(train_data['Text'], train_data['Author'])\n",
    "# Predict the categories of the test data\n",
    "predicted_categories = model.predict(test_data['Text'])\n",
    "#printing accuracy\n",
    "print(\"The accuracy is {}\".format(accuracy_score(test_data['Author'], predicted_categories)))"
   ]
  },
  {
   "cell_type": "markdown",
   "id": "fad48057",
   "metadata": {},
   "source": [
    "## Gutenberg data"
   ]
  },
  {
   "cell_type": "code",
   "execution_count": 3,
   "id": "e336a8e2",
   "metadata": {},
   "outputs": [],
   "source": [
    "#creating a train dataframe to get the author's names and text from each file in the C50 dataset\n",
    "\n",
    "train_df = pd.DataFrame()\n",
    "df = pd.DataFrame()\n",
    "for _, filepath in enumerate(glob.iglob('Gutenberg/*/*.txt')):\n",
    "    df = pd.read_csv(filepath, delimiter=\"\\t\", header = None, error_bad_lines=False, quoting = csv.QUOTE_NONE, encoding='ISO-8859-1')\n",
    "    df['Author'] = filepath.split(\"/\")[1]\n",
    "    dataframe = [train_df, df]\n",
    "    train_df = pd.concat(dataframe)\n",
    "    \n",
    "train_df.rename(columns={ 0 : 'Text'}, inplace=True)"
   ]
  },
  {
   "cell_type": "code",
   "execution_count": 4,
   "id": "8fa545fd",
   "metadata": {},
   "outputs": [],
   "source": [
    "#creating text vector using CountVectorizer feature in sklearn\n",
    "\n",
    "from sklearn.feature_extraction.text import CountVectorizer\n",
    "corpus = train_df['Text']\n",
    "vectorizer = CountVectorizer()\n",
    "X = vectorizer.fit_transform(corpus)"
   ]
  },
  {
   "cell_type": "code",
   "execution_count": 5,
   "id": "1c364485",
   "metadata": {},
   "outputs": [],
   "source": [
    "#defining X and y, the independent and dependent variable\n",
    "\n",
    "def train_test_split(dataframe):\n",
    "    \n",
    "    corpus = dataframe['Text']\n",
    "    vectorizer = CountVectorizer()\n",
    "    X = vectorizer.fit_transform(corpus)\n",
    "    y=dataframe['Author']\n",
    "\n",
    "    #using the stratfiedshufflesplit\n",
    "    split=StratifiedShuffleSplit(n_splits=1, test_size=0.2, random_state=9)\n",
    "    split.get_n_splits(X, y)\n",
    "\n",
    "    #creating the test and train dataframes using the stratifiedshufflesplit module\n",
    "    for i, (train_index, test_index) in enumerate(split.split(X, y)):\n",
    "        train=dataframe.iloc[train_index,:]\n",
    "        test=dataframe.iloc[test_index,:]\n",
    "        \n",
    "    return train,test"
   ]
  },
  {
   "cell_type": "code",
   "execution_count": 6,
   "id": "512cc8e6",
   "metadata": {},
   "outputs": [],
   "source": [
    "#getting the train and test dataset \n",
    "\n",
    "train_data,test_data=train_test_split(train_df)"
   ]
  },
  {
   "cell_type": "code",
   "execution_count": 7,
   "id": "3b09dcf5",
   "metadata": {},
   "outputs": [
    {
     "name": "stdout",
     "output_type": "stream",
     "text": [
      "The accuracy is 0.6929254209326022\n"
     ]
    }
   ],
   "source": [
    "# Building the model using multinomial Naive Bayes module in sklearn\n",
    "model = make_pipeline(TfidfVectorizer(), MultinomialNB())\n",
    "\n",
    "# Training the model using the training data\n",
    "model.fit(train_data['Text'], train_data['Author'])\n",
    "\n",
    "# Predicting the categories of the test data\n",
    "predicted_categories = model.predict(test_data['Text'])\n",
    "\n",
    "#printing accuracy\n",
    "print(\"The accuracy is {}\".format(accuracy_score(test_data['Author'], predicted_categories)))"
   ]
  },
  {
   "cell_type": "markdown",
   "id": "0c1c1643",
   "metadata": {},
   "source": [
    "## Generate synthetic dataset from the naive bayes classifier"
   ]
  },
  {
   "cell_type": "code",
   "execution_count": 31,
   "id": "1a9ba549",
   "metadata": {},
   "outputs": [],
   "source": [
    "import sklearn.datasets as dt\n",
    "from sklearn.neighbors import KernelDensity\n",
    "from sklearn.model_selection import GridSearchCV\n",
    "\n",
    "rand_state = 11\n",
    "\n",
    "corpus = train_df[\"Author\"]\n",
    "vectorizer = CountVectorizer()\n",
    "y = vectorizer.fit_transform(corpus)\n",
    "y=y[0:300].toarray()\n",
    "\n",
    "# Fit a kernel density model using GridSearchCV to determine the best parameter for bandwidth\n",
    "bandwidth_params = {'bandwidth': np.arange(0.01,1,0.05)}\n",
    "grid_search = GridSearchCV(KernelDensity(), bandwidth_params)\n",
    "grid_search.fit(y)\n",
    "kde = grid_search.best_estimator_\n",
    "\n",
    "# Generate/sample 3 new text from this dataset\n",
    "new_author = kde.sample(3, random_state=rand_state)\n",
    "\n",
    "corpus = train_df[\"Text\"]\n",
    "vectorizer = CountVectorizer()\n",
    "X = vectorizer.fit_transform(corpus)\n",
    "X=X[0:300].toarray()\n",
    "\n",
    "# Fit a kernel density model using GridSearchCV to determine the best parameter for bandwidth\n",
    "bandwidth_params = {'bandwidth': np.arange(0.01,1,0.05)}\n",
    "grid_search = GridSearchCV(KernelDensity(), bandwidth_params)\n",
    "grid_search.fit(X)\n",
    "kde = grid_search.best_estimator_\n",
    "\n",
    "# Generate/sample 3 new text from this dataset\n",
    "new_text = kde.sample(3, random_state=rand_state)"
   ]
  },
  {
   "cell_type": "code",
   "execution_count": 49,
   "id": "cdd651d4",
   "metadata": {},
   "outputs": [],
   "source": [
    "#inverting the generated data to text format \n",
    "\n",
    "text_df= pd.DataFrame(list(zip(new_text,new_author)),\n",
    "                                              columns =['Text','Author'])\n",
    "sparse_input = [1 if i in new_text.reshape(-1, 1) else 0 for i in range(0, len(vectorizer.vocabulary_))]\n",
    "input_array=np.asarray(sparse_input).reshape(-1, 1)\n",
    "text_generated=vectorizer.inverse_transform(input_array)"
   ]
  },
  {
   "cell_type": "code",
   "execution_count": 50,
   "id": "caa8f616",
   "metadata": {
    "collapsed": true
   },
   "outputs": [
    {
     "ename": "AttributeError",
     "evalue": "'list' object has no attribute 'to_csv'",
     "output_type": "error",
     "traceback": [
      "\u001b[0;31m---------------------------------------------------------------------------\u001b[0m",
      "\u001b[0;31mAttributeError\u001b[0m                            Traceback (most recent call last)",
      "\u001b[0;32m/var/folders/g2/s3h054dd767962hby4mwb9yw0000gn/T/ipykernel_36333/1795485462.py\u001b[0m in \u001b[0;36m<module>\u001b[0;34m\u001b[0m\n\u001b[1;32m      1\u001b[0m \u001b[0;31m#saving the generated synthetic dataset to a csv file\u001b[0m\u001b[0;34m\u001b[0m\u001b[0;34m\u001b[0m\u001b[0;34m\u001b[0m\u001b[0m\n\u001b[1;32m      2\u001b[0m \u001b[0;34m\u001b[0m\u001b[0m\n\u001b[0;32m----> 3\u001b[0;31m \u001b[0mtext_generated\u001b[0m\u001b[0;34m.\u001b[0m\u001b[0mto_csv\u001b[0m\u001b[0;34m(\u001b[0m\u001b[0;34m\"synthetic_text.csv\"\u001b[0m\u001b[0;34m)\u001b[0m\u001b[0;34m\u001b[0m\u001b[0;34m\u001b[0m\u001b[0m\n\u001b[0m",
      "\u001b[0;31mAttributeError\u001b[0m: 'list' object has no attribute 'to_csv'"
     ]
    }
   ],
   "source": [
    "#saving the generated synthetic dataset to a csv file \n",
    "\n",
    "text_generated.to_csv(\"synthetic_text.csv\")"
   ]
  },
  {
   "cell_type": "markdown",
   "id": "d2f5372f",
   "metadata": {},
   "source": [
    "## Testing the model on synthetic dataset"
   ]
  },
  {
   "cell_type": "code",
   "execution_count": 56,
   "id": "e90189a3",
   "metadata": {},
   "outputs": [],
   "source": [
    "synthetic_df=pd.read_csv(\"synthetic_text.csv\")"
   ]
  },
  {
   "cell_type": "code",
   "execution_count": 59,
   "id": "08aa6025",
   "metadata": {},
   "outputs": [],
   "source": [
    "#getting the train and test dataset \n",
    "\n",
    "train_data,test_data=train_test_split(synthetic_df)"
   ]
  },
  {
   "cell_type": "code",
   "execution_count": 60,
   "id": "1a0eb996",
   "metadata": {},
   "outputs": [
    {
     "name": "stdout",
     "output_type": "stream",
     "text": [
      "The accuracy is 0.669525372302548\n"
     ]
    }
   ],
   "source": [
    "# Building the model using multinomial Naive Bayes module in sklearn\n",
    "model = make_pipeline(TfidfVectorizer(), MultinomialNB())\n",
    "\n",
    "# Training the model using the training data\n",
    "model.fit(train_data['Text'], train_data['Author'])\n",
    "\n",
    "# Predicting the categories of the test data\n",
    "predicted_categories = model.predict(test_data['Text'])\n",
    "\n",
    "#printing accuracy\n",
    "print(\"The accuracy is {}\".format(accuracy_score(test_data['Author'], predicted_categories)))"
   ]
  }
 ],
 "metadata": {
  "kernelspec": {
   "display_name": "Python 3 (ipykernel)",
   "language": "python",
   "name": "python3"
  },
  "language_info": {
   "codemirror_mode": {
    "name": "ipython",
    "version": 3
   },
   "file_extension": ".py",
   "mimetype": "text/x-python",
   "name": "python",
   "nbconvert_exporter": "python",
   "pygments_lexer": "ipython3",
   "version": "3.8.8"
  }
 },
 "nbformat": 4,
 "nbformat_minor": 5
}
