{
 "cells": [
  {
   "cell_type": "markdown",
   "metadata": {
    "id": "dOpaR-l5kxNE"
   },
   "source": [
    "# Author Identification using bi-directional LSTM\n",
    "\n",
    "## Introduction\n",
    "\n",
    "Author identification is an important topic in the field of Natural Language Processing (NLP). With its help, we can identify the author of a text, article, news and it can help us detect plagiarism, literary theft and identify anonymous authors to help researchers with attributions. In this project, we made use of generative probabilistic and discriminative neural network models on Reuters 50 50 and Gutenberg dataset. In the two approaches, article-level LSTM achieved the best accuracy of 68.8\\% for Reuters 50 50 dataset and 79.28\\% for Gutneberg dataset. \n",
    "\n",
    "Authorship identification is the process of identifying the author of a piece of text using various Natural Language Processing methods. The process involves decoding the pattern and style of writing of an author and using that to identify the original author. The writing style is to an extent irrelevant to the topics in question but the style helps distinguish one author from another by a human reader.  \n",
    "\n",
    "One of the applications of author identification is to match an anonymous text with its potential author. It can also be used to detect plagiarism and resolve the rising threat to writing posed by AI systems like the latest ChatGPT. Researchers will benefit by being able to identify and cite text from unknown sources. \n",
    "\n",
    "## Motivation and Importance of the Problem\n",
    "\n",
    "Lately, there have been concerns about the misuse of literary rights, literary theft, and plagiarism. Using someone else's work without proper attribution has become commonplace, especially after the advent of blogging and social media. The author Identification process is important to determine the authors of the text and make sure they receive the recognition and attribution they deserve. The system created in the project enables the analysis and discovery of the original author from unstructured and unannotated text.  The project focuses on generative probabilistic and discriminative neural network designs to predict the author's name. \n",
    "\n",
    "Among all the research done in authorship analysis, authorship identification has been researched in prevalence and is arguably the most published work of all. The author identification was done with classical statistical methods and then with other machine learning algorithms like SVM (Support Vector Machines), tree-based algorithms, etc. Recent advancements in information retrieval and deep learning have made possible the implementation of complex neural network systems like LSTM (Long short-term memory networks), RNN (Recurrent Neural Network), and BERT (Bidirectional Encoder Representations from Transformers) for author identification tasks. The most recent research focuses on recent deep learning architectures combined with state-of-the-art vector representations of words.\n",
    "\n",
    "## Details of the project\n",
    "\n",
    "The project involves exploring a Generative Probabilistic Model and Discriminative Neural Network Model for author identification on Reuters 50 50 and Gutenberg dataset. Their performances are compared on the real dataset and also on a synthetic dataset created using the Generative Probabilistic Model. \n",
    "\n",
    "The following subsections elaborate on the data used for the project and the word representation used in the project. It is followed by a description of the two modeling approaches used: Generative Probabilistic Modelling and Discriminative Neural Network Modelling. \n",
    "\n",
    "## Datasets \n",
    "\n",
    "The project is implemented with two datasets, Reuters 50 50 news dataset, and Gutenberg digital archive dataset. The first one is widely used in research for author identification and we created the second dataset by scraping text from Gutenberg digital archive available to use under Project Gutenberg License. These datasets were used to train and test our model and the results of our experimentations have been discussed in the next section. \n",
    "\n",
    "1. Reuters 50 50\n",
    "\n",
    "The dataset was obtained from UCI Machine Learning Repository and is a subset of a larger corpus, RCV1. The dataset contains news pieces from the top 50 authors, with respect to the total size of articles. The articles written by these top 50 authors were present in train and test folders, each containing half of the total text. The train and test folders have 2500 articles, having around 44,000 sentences in total. The dataset is combined to create stratified randomly shuffled test and train datasets in the ratio 80:20. \n",
    "\n",
    "2. Gutenberg\n",
    "\n",
    "The Gutenberg dataset was created by us from the text offered by Project Gutenberg. Project Gutenberg hosts over 53,000 free e-books which can be used for non-commercial purposes. We selected books by 12 authors of our choice and chose 18 texts in total with each author having at least one text and a maximum of 3 texts. The texts in total have around 202548 sentences. While scraping the dataset, we manually reduced noise in the texts by removing page numbers, index, and contributor details. The test and train datasets were created by stratified random shuffling and splitting in an 80:20 ratio. \n",
    "\n",
    "## Model: Discriminative Neural Network Model (bi-directional LSTM)\n",
    "\n",
    "Discriminative models work by differentiating one author's writing style from another without learning the writing style of all the authors. Unlike generative models that use the underlying class-conditional probability distributions and prior distributions to create the model, discriminative models directly model the conditional probability of the output given the input data. Some examples of discriminative models are logistics regression, support vector machines, etc. For the project, I make use of an Article-level LSTM(Long short-term memory networks). \n",
    "\n",
    "The idea behind this model is to capture an author’s writing style at the article level. The article-level LSTM takes paragraphs as the input and predicts its author. Therefore, the input unit is a sentence. At each time stamp, an average of a sentence's words' vectors is sent to an LSTM layer. The hidden state will be updated and an output will be produced upon each input. All the outputs from the LSTM layers are then sent to an average pooling layer and the next layer is the softmax classification layer. The final output is the author identified by the model. "
   ]
  },
  {
   "cell_type": "markdown",
   "metadata": {},
   "source": [
    "## Reuters 50 50 dataset"
   ]
  },
  {
   "cell_type": "code",
   "execution_count": 1,
   "metadata": {
    "colab": {
     "base_uri": "https://localhost:8080/",
     "height": 514
    },
    "id": "2O55I2zyb7bB",
    "outputId": "8e159138-a252-479a-fe00-de0825b3aa42"
   },
   "outputs": [],
   "source": [
    "#importing all the libraries required for analysis\n",
    "\n",
    "import numpy as np\n",
    "import pandas as pd\n",
    "import glob, csv\n",
    "from sklearn.model_selection import StratifiedShuffleSplit\n",
    "from tqdm import trange\n",
    "\n",
    "from torchtext import vocab\n",
    "from torchtext.vocab import GloVe\n",
    "import torch\n",
    "from torchtext.legacy import data\n",
    "\n",
    "import warnings\n",
    "warnings.filterwarnings(\"ignore\")"
   ]
  },
  {
   "cell_type": "code",
   "execution_count": 41,
   "metadata": {
    "collapsed": true
   },
   "outputs": [
    {
     "name": "stderr",
     "output_type": "stream",
     "text": [
      "b'Skipping line 27: expected 1 fields, saw 7\\nSkipping line 28: expected 1 fields, saw 7\\nSkipping line 29: expected 1 fields, saw 4\\nSkipping line 30: expected 1 fields, saw 8\\nSkipping line 31: expected 1 fields, saw 6\\nSkipping line 32: expected 1 fields, saw 6\\nSkipping line 33: expected 1 fields, saw 6\\n'\n",
      "b'Skipping line 23: expected 1 fields, saw 8\\nSkipping line 24: expected 1 fields, saw 6\\nSkipping line 25: expected 1 fields, saw 4\\nSkipping line 27: expected 1 fields, saw 6\\nSkipping line 28: expected 1 fields, saw 5\\nSkipping line 29: expected 1 fields, saw 6\\n'\n",
      "b'Skipping line 25: expected 1 fields, saw 8\\nSkipping line 26: expected 1 fields, saw 6\\nSkipping line 27: expected 1 fields, saw 4\\nSkipping line 28: expected 1 fields, saw 7\\nSkipping line 29: expected 1 fields, saw 6\\nSkipping line 30: expected 1 fields, saw 5\\nSkipping line 31: expected 1 fields, saw 6\\n'\n",
      "b'Skipping line 21: expected 1 fields, saw 7\\nSkipping line 22: expected 1 fields, saw 5\\nSkipping line 23: expected 1 fields, saw 3\\nSkipping line 24: expected 1 fields, saw 6\\nSkipping line 25: expected 1 fields, saw 3\\nSkipping line 26: expected 1 fields, saw 4\\nSkipping line 27: expected 1 fields, saw 5\\n'\n",
      "b'Skipping line 19: expected 1 fields, saw 2\\nSkipping line 21: expected 1 fields, saw 2\\nSkipping line 22: expected 1 fields, saw 2\\nSkipping line 23: expected 1 fields, saw 2\\nSkipping line 24: expected 1 fields, saw 2\\nSkipping line 26: expected 1 fields, saw 2\\n'\n",
      "b'Skipping line 16: expected 1 fields, saw 6\\nSkipping line 17: expected 1 fields, saw 6\\nSkipping line 18: expected 1 fields, saw 6\\nSkipping line 19: expected 1 fields, saw 4\\nSkipping line 20: expected 1 fields, saw 5\\nSkipping line 21: expected 1 fields, saw 6\\n'\n",
      "b'Skipping line 14: expected 1 fields, saw 4\\nSkipping line 15: expected 1 fields, saw 5\\nSkipping line 16: expected 1 fields, saw 4\\nSkipping line 17: expected 1 fields, saw 4\\nSkipping line 18: expected 1 fields, saw 2\\nSkipping line 19: expected 1 fields, saw 4\\n'\n",
      "b'Skipping line 46: expected 1 fields, saw 4\\nSkipping line 47: expected 1 fields, saw 2\\nSkipping line 48: expected 1 fields, saw 3\\nSkipping line 50: expected 1 fields, saw 4\\nSkipping line 51: expected 1 fields, saw 7\\nSkipping line 52: expected 1 fields, saw 4\\nSkipping line 53: expected 1 fields, saw 2\\nSkipping line 55: expected 1 fields, saw 4\\nSkipping line 59: expected 1 fields, saw 3\\nSkipping line 60: expected 1 fields, saw 4\\nSkipping line 61: expected 1 fields, saw 4\\nSkipping line 62: expected 1 fields, saw 4\\nSkipping line 63: expected 1 fields, saw 2\\n'\n",
      "b'Skipping line 12: expected 1 fields, saw 4\\nSkipping line 13: expected 1 fields, saw 3\\nSkipping line 14: expected 1 fields, saw 6\\nSkipping line 15: expected 1 fields, saw 7\\nSkipping line 16: expected 1 fields, saw 7\\nSkipping line 17: expected 1 fields, saw 7\\nSkipping line 18: expected 1 fields, saw 7\\nSkipping line 19: expected 1 fields, saw 7\\nSkipping line 20: expected 1 fields, saw 7\\nSkipping line 21: expected 1 fields, saw 7\\nSkipping line 22: expected 1 fields, saw 7\\n'\n",
      "b'Skipping line 35: expected 1 fields, saw 4\\nSkipping line 36: expected 1 fields, saw 3\\nSkipping line 37: expected 1 fields, saw 6\\nSkipping line 38: expected 1 fields, saw 7\\nSkipping line 39: expected 1 fields, saw 7\\nSkipping line 40: expected 1 fields, saw 7\\nSkipping line 41: expected 1 fields, saw 7\\nSkipping line 42: expected 1 fields, saw 7\\nSkipping line 43: expected 1 fields, saw 7\\nSkipping line 44: expected 1 fields, saw 7\\nSkipping line 45: expected 1 fields, saw 7\\n'\n",
      "b'Skipping line 11: expected 1 fields, saw 4\\nSkipping line 12: expected 1 fields, saw 4\\nSkipping line 13: expected 1 fields, saw 5\\nSkipping line 14: expected 1 fields, saw 3\\nSkipping line 15: expected 1 fields, saw 3\\nSkipping line 16: expected 1 fields, saw 5\\nSkipping line 17: expected 1 fields, saw 6\\nSkipping line 18: expected 1 fields, saw 5\\nSkipping line 19: expected 1 fields, saw 6\\n'\n",
      "b'Skipping line 12: expected 1 fields, saw 5\\nSkipping line 13: expected 1 fields, saw 4\\nSkipping line 14: expected 1 fields, saw 5\\nSkipping line 15: expected 1 fields, saw 3\\nSkipping line 16: expected 1 fields, saw 6\\nSkipping line 17: expected 1 fields, saw 5\\nSkipping line 18: expected 1 fields, saw 3\\nSkipping line 19: expected 1 fields, saw 4\\nSkipping line 20: expected 1 fields, saw 4\\nSkipping line 21: expected 1 fields, saw 5\\n'\n",
      "b'Skipping line 11: expected 1 fields, saw 4\\nSkipping line 12: expected 1 fields, saw 3\\nSkipping line 13: expected 1 fields, saw 3\\nSkipping line 14: expected 1 fields, saw 3\\nSkipping line 15: expected 1 fields, saw 4\\nSkipping line 16: expected 1 fields, saw 3\\nSkipping line 17: expected 1 fields, saw 5\\nSkipping line 18: expected 1 fields, saw 4\\nSkipping line 19: expected 1 fields, saw 5\\n'\n",
      "b'Skipping line 11: expected 1 fields, saw 4\\nSkipping line 12: expected 1 fields, saw 5\\nSkipping line 13: expected 1 fields, saw 4\\nSkipping line 14: expected 1 fields, saw 5\\nSkipping line 15: expected 1 fields, saw 4\\nSkipping line 16: expected 1 fields, saw 5\\nSkipping line 17: expected 1 fields, saw 4\\nSkipping line 18: expected 1 fields, saw 4\\nSkipping line 19: expected 1 fields, saw 5\\nSkipping line 20: expected 1 fields, saw 3\\n'\n",
      "b'Skipping line 13: expected 1 fields, saw 5\\n'\n",
      "b'Skipping line 8: expected 1 fields, saw 6\\n'\n",
      "b'Skipping line 11: expected 1 fields, saw 5\\n'\n",
      "b'Skipping line 4: expected 1 fields, saw 4\\nSkipping line 5: expected 1 fields, saw 4\\nSkipping line 6: expected 1 fields, saw 7\\nSkipping line 7: expected 1 fields, saw 3\\nSkipping line 8: expected 1 fields, saw 4\\nSkipping line 9: expected 1 fields, saw 2\\nSkipping line 10: expected 1 fields, saw 4\\nSkipping line 11: expected 1 fields, saw 4\\nSkipping line 12: expected 1 fields, saw 4\\nSkipping line 13: expected 1 fields, saw 3\\nSkipping line 14: expected 1 fields, saw 3\\nSkipping line 15: expected 1 fields, saw 3\\nSkipping line 16: expected 1 fields, saw 3\\nSkipping line 17: expected 1 fields, saw 3\\nSkipping line 18: expected 1 fields, saw 4\\nSkipping line 19: expected 1 fields, saw 3\\nSkipping line 20: expected 1 fields, saw 4\\nSkipping line 21: expected 1 fields, saw 4\\n'\n",
      "b'Skipping line 4: expected 1 fields, saw 3\\nSkipping line 5: expected 1 fields, saw 5\\nSkipping line 6: expected 1 fields, saw 8\\nSkipping line 7: expected 1 fields, saw 6\\nSkipping line 8: expected 1 fields, saw 4\\nSkipping line 9: expected 1 fields, saw 4\\nSkipping line 10: expected 1 fields, saw 3\\nSkipping line 11: expected 1 fields, saw 5\\nSkipping line 12: expected 1 fields, saw 4\\nSkipping line 13: expected 1 fields, saw 5\\nSkipping line 14: expected 1 fields, saw 5\\nSkipping line 15: expected 1 fields, saw 4\\nSkipping line 16: expected 1 fields, saw 5\\nSkipping line 17: expected 1 fields, saw 6\\nSkipping line 18: expected 1 fields, saw 5\\nSkipping line 19: expected 1 fields, saw 5\\n'\n",
      "b'Skipping line 3: expected 1 fields, saw 2\\nSkipping line 6: expected 1 fields, saw 5\\nSkipping line 7: expected 1 fields, saw 2\\nSkipping line 9: expected 1 fields, saw 5\\nSkipping line 10: expected 1 fields, saw 4\\nSkipping line 12: expected 1 fields, saw 5\\nSkipping line 13: expected 1 fields, saw 2\\nSkipping line 15: expected 1 fields, saw 5\\nSkipping line 16: expected 1 fields, saw 2\\nSkipping line 18: expected 1 fields, saw 5\\nSkipping line 19: expected 1 fields, saw 4\\nSkipping line 21: expected 1 fields, saw 4\\nSkipping line 22: expected 1 fields, saw 2\\nSkipping line 23: expected 1 fields, saw 2\\nSkipping line 26: expected 1 fields, saw 4\\nSkipping line 27: expected 1 fields, saw 3\\nSkipping line 29: expected 1 fields, saw 5\\nSkipping line 30: expected 1 fields, saw 5\\nSkipping line 32: expected 1 fields, saw 4\\nSkipping line 33: expected 1 fields, saw 3\\nSkipping line 35: expected 1 fields, saw 4\\nSkipping line 36: expected 1 fields, saw 3\\nSkipping line 38: expected 1 fields, saw 5\\nSkipping line 39: expected 1 fields, saw 5\\nSkipping line 41: expected 1 fields, saw 4\\nSkipping line 42: expected 1 fields, saw 3\\n'\n",
      "b'Skipping line 4: expected 1 fields, saw 8\\nSkipping line 5: expected 1 fields, saw 5\\nSkipping line 6: expected 1 fields, saw 8\\nSkipping line 7: expected 1 fields, saw 8\\nSkipping line 8: expected 1 fields, saw 5\\nSkipping line 9: expected 1 fields, saw 8\\nSkipping line 10: expected 1 fields, saw 8\\nSkipping line 11: expected 1 fields, saw 5\\nSkipping line 12: expected 1 fields, saw 7\\nSkipping line 13: expected 1 fields, saw 5\\nSkipping line 14: expected 1 fields, saw 8\\nSkipping line 15: expected 1 fields, saw 7\\nSkipping line 16: expected 1 fields, saw 6\\n'\n",
      "b'Skipping line 13: expected 1 fields, saw 7\\nSkipping line 14: expected 1 fields, saw 6\\nSkipping line 15: expected 1 fields, saw 5\\nSkipping line 16: expected 1 fields, saw 3\\nSkipping line 17: expected 1 fields, saw 3\\nSkipping line 18: expected 1 fields, saw 4\\nSkipping line 19: expected 1 fields, saw 5\\nSkipping line 20: expected 1 fields, saw 4\\nSkipping line 21: expected 1 fields, saw 4\\nSkipping line 22: expected 1 fields, saw 6\\nSkipping line 23: expected 1 fields, saw 3\\nSkipping line 24: expected 1 fields, saw 4\\nSkipping line 25: expected 1 fields, saw 5\\nSkipping line 26: expected 1 fields, saw 6\\n'\n",
      "b'Skipping line 19: expected 1 fields, saw 2\\n'\n",
      "b'Skipping line 92: expected 1 fields, saw 3\\nSkipping line 93: expected 1 fields, saw 4\\nSkipping line 94: expected 1 fields, saw 2\\nSkipping line 95: expected 1 fields, saw 4\\nSkipping line 99: expected 1 fields, saw 3\\nSkipping line 100: expected 1 fields, saw 3\\nSkipping line 101: expected 1 fields, saw 2\\n'\n",
      "b'Skipping line 34: expected 1 fields, saw 3\\nSkipping line 35: expected 1 fields, saw 4\\nSkipping line 36: expected 1 fields, saw 2\\nSkipping line 38: expected 1 fields, saw 4\\nSkipping line 41: expected 1 fields, saw 3\\nSkipping line 42: expected 1 fields, saw 3\\nSkipping line 43: expected 1 fields, saw 2\\n'\n",
      "b'Skipping line 38: expected 1 fields, saw 3\\nSkipping line 39: expected 1 fields, saw 4\\nSkipping line 40: expected 1 fields, saw 2\\nSkipping line 41: expected 1 fields, saw 5\\nSkipping line 42: expected 1 fields, saw 2\\nSkipping line 44: expected 1 fields, saw 2\\nSkipping line 45: expected 1 fields, saw 5\\nSkipping line 46: expected 1 fields, saw 2\\n'\n",
      "b'Skipping line 38: expected 1 fields, saw 3\\nSkipping line 39: expected 1 fields, saw 4\\nSkipping line 40: expected 1 fields, saw 2\\nSkipping line 41: expected 1 fields, saw 5\\nSkipping line 42: expected 1 fields, saw 2\\nSkipping line 44: expected 1 fields, saw 2\\nSkipping line 45: expected 1 fields, saw 5\\nSkipping line 46: expected 1 fields, saw 2\\n'\n",
      "b'Skipping line 38: expected 1 fields, saw 3\\nSkipping line 39: expected 1 fields, saw 4\\nSkipping line 40: expected 1 fields, saw 2\\nSkipping line 41: expected 1 fields, saw 2\\nSkipping line 42: expected 1 fields, saw 4\\nSkipping line 44: expected 1 fields, saw 4\\nSkipping line 45: expected 1 fields, saw 2\\n'\n"
     ]
    },
    {
     "name": "stderr",
     "output_type": "stream",
     "text": [
      "b'Skipping line 16: expected 1 fields, saw 4\\nSkipping line 17: expected 1 fields, saw 4\\nSkipping line 18: expected 1 fields, saw 3\\nSkipping line 19: expected 1 fields, saw 3\\nSkipping line 20: expected 1 fields, saw 3\\nSkipping line 21: expected 1 fields, saw 4\\nSkipping line 22: expected 1 fields, saw 5\\nSkipping line 23: expected 1 fields, saw 3\\nSkipping line 24: expected 1 fields, saw 4\\n'\n",
      "b'Skipping line 18: expected 1 fields, saw 4\\nSkipping line 19: expected 1 fields, saw 3\\nSkipping line 20: expected 1 fields, saw 2\\nSkipping line 22: expected 1 fields, saw 3\\nSkipping line 23: expected 1 fields, saw 2\\nSkipping line 24: expected 1 fields, saw 2\\nSkipping line 25: expected 1 fields, saw 2\\n'\n"
     ]
    }
   ],
   "source": [
    "#creating a train dataframe to get the author's names and text from each file in the C50 dataset\n",
    "\n",
    "train_df = pd.DataFrame()\n",
    "df = pd.DataFrame()\n",
    "for _, filepath in enumerate(glob.iglob('/Users/srtpan/Downloads/C50/C50train/*/*.txt')):\n",
    "    df = pd.read_csv(filepath, delimiter=\"\\t\", header = None, error_bad_lines=False, quoting = csv.QUOTE_NONE, encoding='utf-8')\n",
    "    df['Author'] = filepath.split(\"/\")[6]\n",
    "    dataframe = [train_df, df]\n",
    "    train_df = pd.concat(dataframe)\n",
    "    \n",
    "train_df.rename(columns={ 0 : 'Text'}, inplace=True)"
   ]
  },
  {
   "cell_type": "code",
   "execution_count": 42,
   "metadata": {},
   "outputs": [
    {
     "data": {
      "text/html": [
       "<div>\n",
       "<style scoped>\n",
       "    .dataframe tbody tr th:only-of-type {\n",
       "        vertical-align: middle;\n",
       "    }\n",
       "\n",
       "    .dataframe tbody tr th {\n",
       "        vertical-align: top;\n",
       "    }\n",
       "\n",
       "    .dataframe thead th {\n",
       "        text-align: right;\n",
       "    }\n",
       "</style>\n",
       "<table border=\"1\" class=\"dataframe\">\n",
       "  <thead>\n",
       "    <tr style=\"text-align: right;\">\n",
       "      <th></th>\n",
       "      <th>Text</th>\n",
       "      <th>Author</th>\n",
       "    </tr>\n",
       "  </thead>\n",
       "  <tbody>\n",
       "    <tr>\n",
       "      <th>0</th>\n",
       "      <td>Drugstore giant Revco D.S. Inc. said Monday it...</td>\n",
       "      <td>RobinSidel</td>\n",
       "    </tr>\n",
       "    <tr>\n",
       "      <th>1</th>\n",
       "      <td>The transaction calls for Twinsburg, Ohio-base...</td>\n",
       "      <td>RobinSidel</td>\n",
       "    </tr>\n",
       "    <tr>\n",
       "      <th>2</th>\n",
       "      <td>\"We are very excited about the combination of ...</td>\n",
       "      <td>RobinSidel</td>\n",
       "    </tr>\n",
       "    <tr>\n",
       "      <th>3</th>\n",
       "      <td>The deal will combine the nation's second- and...</td>\n",
       "      <td>RobinSidel</td>\n",
       "    </tr>\n",
       "    <tr>\n",
       "      <th>4</th>\n",
       "      <td>The companies said Big B's board of directors ...</td>\n",
       "      <td>RobinSidel</td>\n",
       "    </tr>\n",
       "  </tbody>\n",
       "</table>\n",
       "</div>"
      ],
      "text/plain": [
       "                                                Text      Author\n",
       "0  Drugstore giant Revco D.S. Inc. said Monday it...  RobinSidel\n",
       "1  The transaction calls for Twinsburg, Ohio-base...  RobinSidel\n",
       "2  \"We are very excited about the combination of ...  RobinSidel\n",
       "3  The deal will combine the nation's second- and...  RobinSidel\n",
       "4  The companies said Big B's board of directors ...  RobinSidel"
      ]
     },
     "execution_count": 42,
     "metadata": {},
     "output_type": "execute_result"
    }
   ],
   "source": [
    "#displaying first 5 rows of the dataframe\n",
    "\n",
    "train_df.head()"
   ]
  },
  {
   "cell_type": "code",
   "execution_count": 43,
   "metadata": {},
   "outputs": [
    {
     "name": "stdout",
     "output_type": "stream",
     "text": [
      "<class 'pandas.core.frame.DataFrame'>\n",
      "Int64Index: 43382 entries, 0 to 18\n",
      "Data columns (total 2 columns):\n",
      " #   Column  Non-Null Count  Dtype \n",
      "---  ------  --------------  ----- \n",
      " 0   Text    43382 non-null  object\n",
      " 1   Author  43382 non-null  object\n",
      "dtypes: object(2)\n",
      "memory usage: 1016.8+ KB\n"
     ]
    }
   ],
   "source": [
    "#some more information about the train dataset\n",
    "\n",
    "train_df.info()"
   ]
  },
  {
   "cell_type": "code",
   "execution_count": 44,
   "metadata": {},
   "outputs": [
    {
     "data": {
      "text/plain": [
       "LynneO'Donnell      1108\n",
       "SarahDavison        1013\n",
       "NickLouth           1012\n",
       "JaneMacartney        988\n",
       "HeatherScoffield     987\n",
       "Name: Author, dtype: int64"
      ]
     },
     "execution_count": 44,
     "metadata": {},
     "output_type": "execute_result"
    }
   ],
   "source": [
    "#top five authors having maximum number of texts \n",
    "\n",
    "train_df[\"Author\"].value_counts()[0:5]"
   ]
  },
  {
   "cell_type": "code",
   "execution_count": 45,
   "metadata": {
    "collapsed": true
   },
   "outputs": [
    {
     "name": "stderr",
     "output_type": "stream",
     "text": [
      "b'Skipping line 16: expected 1 fields, saw 4\\nSkipping line 17: expected 1 fields, saw 2\\nSkipping line 18: expected 1 fields, saw 2\\nSkipping line 20: expected 1 fields, saw 5\\nSkipping line 21: expected 1 fields, saw 4\\nSkipping line 22: expected 1 fields, saw 2\\n'\n",
      "b'Skipping line 12: expected 1 fields, saw 2\\n'\n",
      "b'Skipping line 18: expected 1 fields, saw 7\\nSkipping line 19: expected 1 fields, saw 4\\nSkipping line 20: expected 1 fields, saw 4\\nSkipping line 21: expected 1 fields, saw 6\\nSkipping line 22: expected 1 fields, saw 5\\n'\n",
      "b'Skipping line 19: expected 1 fields, saw 7\\nSkipping line 20: expected 1 fields, saw 5\\nSkipping line 21: expected 1 fields, saw 4\\nSkipping line 22: expected 1 fields, saw 6\\nSkipping line 23: expected 1 fields, saw 3\\n'\n",
      "b'Skipping line 28: expected 1 fields, saw 7\\nSkipping line 29: expected 1 fields, saw 7\\nSkipping line 30: expected 1 fields, saw 3\\nSkipping line 31: expected 1 fields, saw 7\\nSkipping line 32: expected 1 fields, saw 6\\nSkipping line 33: expected 1 fields, saw 4\\nSkipping line 34: expected 1 fields, saw 5\\nSkipping line 35: expected 1 fields, saw 2\\nSkipping line 36: expected 1 fields, saw 8\\nSkipping line 37: expected 1 fields, saw 4\\n'\n",
      "b'Skipping line 23: expected 1 fields, saw 7\\nSkipping line 24: expected 1 fields, saw 4\\nSkipping line 27: expected 1 fields, saw 4\\nSkipping line 29: expected 1 fields, saw 6\\nSkipping line 30: expected 1 fields, saw 6\\n'\n",
      "b'Skipping line 22: expected 1 fields, saw 7\\nSkipping line 23: expected 1 fields, saw 7\\nSkipping line 25: expected 1 fields, saw 5\\nSkipping line 26: expected 1 fields, saw 5\\nSkipping line 27: expected 1 fields, saw 8\\nSkipping line 28: expected 1 fields, saw 4\\nSkipping line 29: expected 1 fields, saw 3\\nSkipping line 31: expected 1 fields, saw 7\\nSkipping line 32: expected 1 fields, saw 5\\nSkipping line 33: expected 1 fields, saw 4\\n'\n",
      "b'Skipping line 18: expected 1 fields, saw 7\\nSkipping line 19: expected 1 fields, saw 6\\nSkipping line 22: expected 1 fields, saw 7\\nSkipping line 23: expected 1 fields, saw 6\\nSkipping line 24: expected 1 fields, saw 8\\nSkipping line 25: expected 1 fields, saw 3\\nSkipping line 29: expected 1 fields, saw 7\\nSkipping line 30: expected 1 fields, saw 5\\nSkipping line 31: expected 1 fields, saw 4\\n'\n",
      "b'Skipping line 27: expected 1 fields, saw 6\\nSkipping line 28: expected 1 fields, saw 2\\nSkipping line 29: expected 1 fields, saw 3\\nSkipping line 30: expected 1 fields, saw 4\\nSkipping line 31: expected 1 fields, saw 6\\nSkipping line 32: expected 1 fields, saw 3\\nSkipping line 33: expected 1 fields, saw 3\\nSkipping line 34: expected 1 fields, saw 5\\n'\n",
      "b'Skipping line 25: expected 1 fields, saw 7\\nSkipping line 26: expected 1 fields, saw 7\\nSkipping line 27: expected 1 fields, saw 3\\nSkipping line 28: expected 1 fields, saw 6\\nSkipping line 29: expected 1 fields, saw 6\\nSkipping line 30: expected 1 fields, saw 5\\nSkipping line 31: expected 1 fields, saw 3\\n'\n",
      "b'Skipping line 17: expected 1 fields, saw 2\\n'\n",
      "b'Skipping line 16: expected 1 fields, saw 2\\n'\n",
      "b'Skipping line 16: expected 1 fields, saw 2\\n'\n",
      "b'Skipping line 11: expected 1 fields, saw 2\\n'\n",
      "b'Skipping line 17: expected 1 fields, saw 2\\n'\n",
      "b'Skipping line 21: expected 1 fields, saw 6\\n'\n",
      "b'Skipping line 16: expected 1 fields, saw 2\\n'\n",
      "b'Skipping line 14: expected 1 fields, saw 6\\n'\n",
      "b'Skipping line 12: expected 1 fields, saw 6\\n'\n",
      "b'Skipping line 21: expected 1 fields, saw 2\\n'\n",
      "b'Skipping line 3: expected 1 fields, saw 4\\nSkipping line 4: expected 1 fields, saw 5\\nSkipping line 5: expected 1 fields, saw 8\\nSkipping line 6: expected 1 fields, saw 4\\nSkipping line 7: expected 1 fields, saw 2\\nSkipping line 8: expected 1 fields, saw 2\\nSkipping line 9: expected 1 fields, saw 2\\nSkipping line 10: expected 1 fields, saw 3\\nSkipping line 11: expected 1 fields, saw 2\\nSkipping line 12: expected 1 fields, saw 2\\nSkipping line 13: expected 1 fields, saw 3\\nSkipping line 14: expected 1 fields, saw 3\\nSkipping line 15: expected 1 fields, saw 3\\nSkipping line 16: expected 1 fields, saw 5\\nSkipping line 17: expected 1 fields, saw 2\\nSkipping line 18: expected 1 fields, saw 3\\n'\n",
      "b'Skipping line 4: expected 1 fields, saw 3\\nSkipping line 5: expected 1 fields, saw 5\\nSkipping line 6: expected 1 fields, saw 8\\nSkipping line 7: expected 1 fields, saw 5\\nSkipping line 8: expected 1 fields, saw 2\\nSkipping line 9: expected 1 fields, saw 2\\nSkipping line 11: expected 1 fields, saw 3\\nSkipping line 12: expected 1 fields, saw 2\\nSkipping line 13: expected 1 fields, saw 2\\nSkipping line 14: expected 1 fields, saw 3\\nSkipping line 15: expected 1 fields, saw 4\\nSkipping line 16: expected 1 fields, saw 3\\nSkipping line 17: expected 1 fields, saw 4\\nSkipping line 18: expected 1 fields, saw 3\\nSkipping line 19: expected 1 fields, saw 3\\n'\n",
      "b'Skipping line 3: expected 1 fields, saw 3\\nSkipping line 4: expected 1 fields, saw 5\\nSkipping line 5: expected 1 fields, saw 8\\nSkipping line 6: expected 1 fields, saw 2\\nSkipping line 7: expected 1 fields, saw 2\\nSkipping line 9: expected 1 fields, saw 2\\nSkipping line 10: expected 1 fields, saw 2\\nSkipping line 11: expected 1 fields, saw 3\\nSkipping line 12: expected 1 fields, saw 2\\nSkipping line 13: expected 1 fields, saw 2\\nSkipping line 14: expected 1 fields, saw 2\\nSkipping line 15: expected 1 fields, saw 2\\nSkipping line 16: expected 1 fields, saw 2\\nSkipping line 17: expected 1 fields, saw 2\\nSkipping line 18: expected 1 fields, saw 2\\nSkipping line 19: expected 1 fields, saw 3\\nSkipping line 20: expected 1 fields, saw 3\\n'\n",
      "b'Skipping line 5: expected 1 fields, saw 4\\nSkipping line 6: expected 1 fields, saw 5\\nSkipping line 7: expected 1 fields, saw 8\\nSkipping line 8: expected 1 fields, saw 2\\nSkipping line 9: expected 1 fields, saw 3\\nSkipping line 11: expected 1 fields, saw 3\\nSkipping line 12: expected 1 fields, saw 3\\nSkipping line 13: expected 1 fields, saw 3\\nSkipping line 14: expected 1 fields, saw 2\\nSkipping line 15: expected 1 fields, saw 2\\nSkipping line 16: expected 1 fields, saw 2\\nSkipping line 17: expected 1 fields, saw 2\\nSkipping line 18: expected 1 fields, saw 3\\nSkipping line 19: expected 1 fields, saw 2\\nSkipping line 20: expected 1 fields, saw 2\\nSkipping line 21: expected 1 fields, saw 4\\nSkipping line 22: expected 1 fields, saw 3\\nSkipping line 23: expected 1 fields, saw 2\\n'\n",
      "b'Skipping line 13: expected 1 fields, saw 7\\nSkipping line 14: expected 1 fields, saw 7\\nSkipping line 15: expected 1 fields, saw 5\\nSkipping line 16: expected 1 fields, saw 3\\nSkipping line 17: expected 1 fields, saw 5\\nSkipping line 18: expected 1 fields, saw 3\\nSkipping line 19: expected 1 fields, saw 5\\nSkipping line 20: expected 1 fields, saw 6\\nSkipping line 21: expected 1 fields, saw 3\\nSkipping line 22: expected 1 fields, saw 4\\nSkipping line 23: expected 1 fields, saw 4\\nSkipping line 24: expected 1 fields, saw 5\\nSkipping line 25: expected 1 fields, saw 4\\nSkipping line 26: expected 1 fields, saw 3\\n'\n",
      "b'Skipping line 29: expected 1 fields, saw 3\\nSkipping line 30: expected 1 fields, saw 4\\nSkipping line 31: expected 1 fields, saw 2\\nSkipping line 33: expected 1 fields, saw 3\\nSkipping line 34: expected 1 fields, saw 4\\nSkipping line 35: expected 1 fields, saw 2\\nSkipping line 37: expected 1 fields, saw 3\\nSkipping line 38: expected 1 fields, saw 2\\n'\n",
      "b'Skipping line 83: expected 1 fields, saw 3\\nSkipping line 84: expected 1 fields, saw 4\\nSkipping line 85: expected 1 fields, saw 2\\nSkipping line 87: expected 1 fields, saw 3\\nSkipping line 88: expected 1 fields, saw 4\\nSkipping line 89: expected 1 fields, saw 2\\nSkipping line 91: expected 1 fields, saw 3\\nSkipping line 92: expected 1 fields, saw 2\\n'\n",
      "b'Skipping line 33: expected 1 fields, saw 3\\nSkipping line 34: expected 1 fields, saw 4\\nSkipping line 35: expected 1 fields, saw 2\\nSkipping line 36: expected 1 fields, saw 4\\nSkipping line 40: expected 1 fields, saw 3\\nSkipping line 41: expected 1 fields, saw 3\\nSkipping line 42: expected 1 fields, saw 2\\n'\n",
      "b'Skipping line 31: expected 1 fields, saw 3\\nSkipping line 32: expected 1 fields, saw 4\\nSkipping line 33: expected 1 fields, saw 2\\nSkipping line 36: expected 1 fields, saw 4\\nSkipping line 37: expected 1 fields, saw 2\\nSkipping line 39: expected 1 fields, saw 3\\nSkipping line 40: expected 1 fields, saw 2\\n'\n"
     ]
    },
    {
     "name": "stderr",
     "output_type": "stream",
     "text": [
      "b'Skipping line 10: expected 1 fields, saw 5\\nSkipping line 11: expected 1 fields, saw 5\\nSkipping line 12: expected 1 fields, saw 4\\nSkipping line 13: expected 1 fields, saw 3\\nSkipping line 14: expected 1 fields, saw 4\\nSkipping line 15: expected 1 fields, saw 3\\nSkipping line 16: expected 1 fields, saw 4\\nSkipping line 17: expected 1 fields, saw 3\\nSkipping line 18: expected 1 fields, saw 2\\nSkipping line 19: expected 1 fields, saw 5\\nSkipping line 21: expected 1 fields, saw 4\\nSkipping line 22: expected 1 fields, saw 3\\nSkipping line 23: expected 1 fields, saw 9\\nSkipping line 24: expected 1 fields, saw 2\\nSkipping line 25: expected 1 fields, saw 9\\nSkipping line 26: expected 1 fields, saw 4\\nSkipping line 27: expected 1 fields, saw 9\\nSkipping line 28: expected 1 fields, saw 9\\n'\n",
      "b'Skipping line 11: expected 1 fields, saw 2\\n'\n"
     ]
    }
   ],
   "source": [
    "#creating a test dataframe to get the author's names and text from each file in the C50 dataset\n",
    "\n",
    "test_df = pd.DataFrame()\n",
    "df = pd.DataFrame()\n",
    "for _, filepath in enumerate(glob.iglob('/Users/srtpan/Downloads/C50/C50test/*/*.txt')):\n",
    "    df = pd.read_csv(filepath, delimiter=\"\\t\", header = None, error_bad_lines=False, quoting = csv.QUOTE_NONE, encoding='utf-8')\n",
    "    df['Author'] = filepath.split(\"/\")[6]\n",
    "    dataframe = [test_df, df]\n",
    "    test_df = pd.concat(dataframe)\n",
    "    \n",
    "test_df.rename(columns={ 0 : 'Text'}, inplace=True)"
   ]
  },
  {
   "cell_type": "code",
   "execution_count": 46,
   "metadata": {},
   "outputs": [
    {
     "data": {
      "text/html": [
       "<div>\n",
       "<style scoped>\n",
       "    .dataframe tbody tr th:only-of-type {\n",
       "        vertical-align: middle;\n",
       "    }\n",
       "\n",
       "    .dataframe tbody tr th {\n",
       "        vertical-align: top;\n",
       "    }\n",
       "\n",
       "    .dataframe thead th {\n",
       "        text-align: right;\n",
       "    }\n",
       "</style>\n",
       "<table border=\"1\" class=\"dataframe\">\n",
       "  <thead>\n",
       "    <tr style=\"text-align: right;\">\n",
       "      <th></th>\n",
       "      <th>Text</th>\n",
       "      <th>Author</th>\n",
       "    </tr>\n",
       "  </thead>\n",
       "  <tbody>\n",
       "    <tr>\n",
       "      <th>0</th>\n",
       "      <td>ITT Corp. met with financial advisers on Thurs...</td>\n",
       "      <td>RobinSidel</td>\n",
       "    </tr>\n",
       "    <tr>\n",
       "      <th>1</th>\n",
       "      <td>Industry experts said ITT might be able to sta...</td>\n",
       "      <td>RobinSidel</td>\n",
       "    </tr>\n",
       "    <tr>\n",
       "      <th>2</th>\n",
       "      <td>\"ITT is a company with a lot of friends on Wal...</td>\n",
       "      <td>RobinSidel</td>\n",
       "    </tr>\n",
       "    <tr>\n",
       "      <th>3</th>\n",
       "      <td>Although ITT is widely expected to reject the ...</td>\n",
       "      <td>RobinSidel</td>\n",
       "    </tr>\n",
       "    <tr>\n",
       "      <th>4</th>\n",
       "      <td>ITT declined to comment.</td>\n",
       "      <td>RobinSidel</td>\n",
       "    </tr>\n",
       "  </tbody>\n",
       "</table>\n",
       "</div>"
      ],
      "text/plain": [
       "                                                Text      Author\n",
       "0  ITT Corp. met with financial advisers on Thurs...  RobinSidel\n",
       "1  Industry experts said ITT might be able to sta...  RobinSidel\n",
       "2  \"ITT is a company with a lot of friends on Wal...  RobinSidel\n",
       "3  Although ITT is widely expected to reject the ...  RobinSidel\n",
       "4                           ITT declined to comment.  RobinSidel"
      ]
     },
     "execution_count": 46,
     "metadata": {},
     "output_type": "execute_result"
    }
   ],
   "source": [
    "#first five elements of test dataframe \n",
    "\n",
    "test_df.head()"
   ]
  },
  {
   "cell_type": "code",
   "execution_count": 47,
   "metadata": {},
   "outputs": [
    {
     "name": "stdout",
     "output_type": "stream",
     "text": [
      "<class 'pandas.core.frame.DataFrame'>\n",
      "Int64Index: 44010 entries, 0 to 11\n",
      "Data columns (total 2 columns):\n",
      " #   Column  Non-Null Count  Dtype \n",
      "---  ------  --------------  ----- \n",
      " 0   Text    44010 non-null  object\n",
      " 1   Author  44010 non-null  object\n",
      "dtypes: object(2)\n",
      "memory usage: 1.0+ MB\n"
     ]
    }
   ],
   "source": [
    "# getting more information about the test dataset\n",
    "\n",
    "test_df.info()"
   ]
  },
  {
   "cell_type": "code",
   "execution_count": 48,
   "metadata": {},
   "outputs": [
    {
     "data": {
      "text/plain": [
       "LynneO'Donnell      1088\n",
       "KirstinRidley       1068\n",
       "DarrenSchuettler    1065\n",
       "LynnleyBrowning     1049\n",
       "PeterHumphrey       1045\n",
       "Name: Author, dtype: int64"
      ]
     },
     "execution_count": 48,
     "metadata": {},
     "output_type": "execute_result"
    }
   ],
   "source": [
    "#top five authors having maximum number of texts \n",
    "\n",
    "test_df[\"Author\"].value_counts()[0:5]"
   ]
  },
  {
   "cell_type": "code",
   "execution_count": 49,
   "metadata": {},
   "outputs": [
    {
     "name": "stdout",
     "output_type": "stream",
     "text": [
      "<class 'pandas.core.frame.DataFrame'>\n",
      "Int64Index: 78408 entries, 0 to 87391\n",
      "Data columns (total 2 columns):\n",
      " #   Column  Non-Null Count  Dtype \n",
      "---  ------  --------------  ----- \n",
      " 0   Text    78408 non-null  object\n",
      " 1   Author  78408 non-null  object\n",
      "dtypes: object(2)\n",
      "memory usage: 1.8+ MB\n"
     ]
    }
   ],
   "source": [
    "#combining both dataset\n",
    "\n",
    "c50_df=train_df.append(test_df, ignore_index=True)\n",
    "c50_df = c50_df.drop_duplicates()\n",
    "c50_df.info()"
   ]
  },
  {
   "cell_type": "code",
   "execution_count": 50,
   "metadata": {},
   "outputs": [
    {
     "data": {
      "text/plain": [
       "MatthewBunce       1951\n",
       "LynnleyBrowning    1925\n",
       "PeterHumphrey      1924\n",
       "LynneO'Donnell     1884\n",
       "SarahDavison       1878\n",
       "Name: Author, dtype: int64"
      ]
     },
     "execution_count": 50,
     "metadata": {},
     "output_type": "execute_result"
    }
   ],
   "source": [
    "c50_df[\"Author\"].value_counts()[0:5]"
   ]
  },
  {
   "cell_type": "markdown",
   "metadata": {},
   "source": [
    "### Test-Train split \n",
    "\n",
    "For this, we will use Stratified ShuffleSplit cross-validator provided in scikit-learn library. It provides train/test indices to split data in train/test sets.\n",
    "\n",
    "This cross-validation object is a merge of StratifiedKFold and ShuffleSplit, which returns stratified randomized folds. The folds are made by preserving the percentage of samples for each class."
   ]
  },
  {
   "cell_type": "code",
   "execution_count": 51,
   "metadata": {},
   "outputs": [],
   "source": [
    "#defining X and y, the independent and depenedent variable\n",
    "\n",
    "def train_test_split(dataframe):\n",
    "    X=dataframe['Text']\n",
    "    y=dataframe['Author_Num']\n",
    "\n",
    "  #using the stratfiedshufflesplit\n",
    "\n",
    "    split=StratifiedShuffleSplit(n_splits=1, test_size=0.1, random_state=9)\n",
    "    split.get_n_splits(X, y)\n",
    "\n",
    "  #creating the test and train dataframes using the stratifiedshufflesplit module\n",
    "\n",
    "    for i, (train_index, test_index) in enumerate(split.split(X, y)):\n",
    "        train=dataframe.iloc[train_index,:]\n",
    "        test=dataframe.iloc[test_index,:]"
   ]
  },
  {
   "cell_type": "code",
   "execution_count": 52,
   "metadata": {},
   "outputs": [
    {
     "data": {
      "text/html": [
       "<div>\n",
       "<style scoped>\n",
       "    .dataframe tbody tr th:only-of-type {\n",
       "        vertical-align: middle;\n",
       "    }\n",
       "\n",
       "    .dataframe tbody tr th {\n",
       "        vertical-align: top;\n",
       "    }\n",
       "\n",
       "    .dataframe thead th {\n",
       "        text-align: right;\n",
       "    }\n",
       "</style>\n",
       "<table border=\"1\" class=\"dataframe\">\n",
       "  <thead>\n",
       "    <tr style=\"text-align: right;\">\n",
       "      <th></th>\n",
       "      <th>Text</th>\n",
       "      <th>Author_Num</th>\n",
       "    </tr>\n",
       "  </thead>\n",
       "  <tbody>\n",
       "    <tr>\n",
       "      <th>0</th>\n",
       "      <td>Drugstore giant Revco D.S. Inc. said Monday it...</td>\n",
       "      <td>39</td>\n",
       "    </tr>\n",
       "    <tr>\n",
       "      <th>1</th>\n",
       "      <td>The transaction calls for Twinsburg, Ohio-base...</td>\n",
       "      <td>39</td>\n",
       "    </tr>\n",
       "    <tr>\n",
       "      <th>2</th>\n",
       "      <td>\"We are very excited about the combination of ...</td>\n",
       "      <td>39</td>\n",
       "    </tr>\n",
       "    <tr>\n",
       "      <th>3</th>\n",
       "      <td>The deal will combine the nation's second- and...</td>\n",
       "      <td>39</td>\n",
       "    </tr>\n",
       "    <tr>\n",
       "      <th>4</th>\n",
       "      <td>The companies said Big B's board of directors ...</td>\n",
       "      <td>39</td>\n",
       "    </tr>\n",
       "  </tbody>\n",
       "</table>\n",
       "</div>"
      ],
      "text/plain": [
       "                                                Text  Author_Num\n",
       "0  Drugstore giant Revco D.S. Inc. said Monday it...          39\n",
       "1  The transaction calls for Twinsburg, Ohio-base...          39\n",
       "2  \"We are very excited about the combination of ...          39\n",
       "3  The deal will combine the nation's second- and...          39\n",
       "4  The companies said Big B's board of directors ...          39"
      ]
     },
     "execution_count": 52,
     "metadata": {},
     "output_type": "execute_result"
    }
   ],
   "source": [
    "# starting by creating a new column for the dataframe representing authors as numbers \n",
    "\n",
    "author_number = sorted(c50_df['Author'].unique())\n",
    "dictOfAuthors = { i : author_number[i] for i in range(0, len(author_number) ) }\n",
    "dict_num = {value:key for key, value in dictOfAuthors.items()}\n",
    "c50_df['Author_Num'] = c50_df['Author'].map(dict_num)\n",
    "\n",
    "#dropping author_num\n",
    "\n",
    "c50_df.drop(columns=\"Author\", inplace=True)\n",
    "c50_df.head()"
   ]
  },
  {
   "cell_type": "code",
   "execution_count": 53,
   "metadata": {},
   "outputs": [],
   "source": [
    "#using the FastText word embedding system as mentioned in the paper \n",
    "\n",
    "from torchtext.legacy.data import Field\n",
    "\n",
    "text_field = Field(\n",
    "    sequential=True,\n",
    "    tokenize='basic_english', \n",
    "    fix_length=5,\n",
    "    lower=True\n",
    ")\n",
    "label_field = Field(sequential=False, use_vocab=False)\n",
    "\n",
    "preprocessed_text = c50_df['Text'].apply(\n",
    "    lambda x: text_field.preprocess(x)\n",
    ")\n",
    "\n",
    "text_field.build_vocab(\n",
    "    preprocessed_text, \n",
    "    vectors='fasttext.simple.300d'\n",
    ")\n",
    "\n",
    "# getting the vocab instance\n",
    "vocab = text_field.vocab"
   ]
  },
  {
   "cell_type": "code",
   "execution_count": 54,
   "metadata": {},
   "outputs": [
    {
     "data": {
      "text/plain": [
       "tensor([[ 0.0000,  0.0000,  0.0000,  ...,  0.0000,  0.0000,  0.0000],\n",
       "        [ 0.0000,  0.0000,  0.0000,  ...,  0.0000,  0.0000,  0.0000],\n",
       "        [ 0.0569, -0.0520,  0.2733,  ..., -0.0695, -0.1606, -0.0989],\n",
       "        ...,\n",
       "        [ 0.0000,  0.0000,  0.0000,  ...,  0.0000,  0.0000,  0.0000],\n",
       "        [ 0.0000,  0.0000,  0.0000,  ...,  0.0000,  0.0000,  0.0000],\n",
       "        [ 0.0000,  0.0000,  0.0000,  ...,  0.0000,  0.0000,  0.0000]])"
      ]
     },
     "execution_count": 54,
     "metadata": {},
     "output_type": "execute_result"
    }
   ],
   "source": [
    "vocab.vectors"
   ]
  },
  {
   "cell_type": "code",
   "execution_count": 55,
   "metadata": {},
   "outputs": [],
   "source": [
    "from torchtext.legacy.data import Dataset, Example\n",
    "\n",
    "ltoi = {l: i for i, l in enumerate(c50_df['Author_Num'].unique())}\n",
    "c50_df['Author_Num'] = c50_df['Author_Num'].apply(lambda y: ltoi[y])\n",
    "\n",
    "#create a new class to split into train and test and create iterators\n",
    "class DataFrameDataset(Dataset):\n",
    "    def __init__(self, df: pd.DataFrame, fields: list):\n",
    "        super(DataFrameDataset, self).__init__(\n",
    "            [\n",
    "                Example.fromlist(list(r), fields) \n",
    "                for i, r in df.iterrows()\n",
    "            ], \n",
    "            fields\n",
    "        )"
   ]
  },
  {
   "cell_type": "code",
   "execution_count": 56,
   "metadata": {},
   "outputs": [],
   "source": [
    "#80:20 split as mentioned in the paper\n",
    "\n",
    "train_dataset, test_dataset = DataFrameDataset(\n",
    "    df=c50_df, \n",
    "    fields=(\n",
    "        ('text', text_field),\n",
    "        ('label', label_field)\n",
    "    )\n",
    ").split()"
   ]
  },
  {
   "cell_type": "code",
   "execution_count": 57,
   "metadata": {},
   "outputs": [],
   "source": [
    "#creating iterators for further training and test the model \n",
    "\n",
    "from torchtext.legacy.data import BucketIterator\n",
    "train_iter, test_iter = BucketIterator.splits(\n",
    "    datasets=(train_dataset, test_dataset), \n",
    "    batch_size=128,\n",
    "    sort=False\n",
    ")"
   ]
  },
  {
   "cell_type": "code",
   "execution_count": 58,
   "metadata": {},
   "outputs": [],
   "source": [
    "#creating the deep neural network model\n",
    "\n",
    "import torch.nn as nn\n",
    "import torch.nn.functional as F\n",
    "from torch.optim import Adam\n",
    "\n",
    "#defining parameters\n",
    "\n",
    "class ModelParam(object):\n",
    "    def __init__(self, param_dict: dict = dict()):\n",
    "        self.input_size = param_dict.get('input_size', 0)\n",
    "        self.vocab_size = param_dict.get('vocab_size')\n",
    "        self.hidden_size = param_dict.get('hidden_size')\n",
    "        self.embedding_dim = param_dict.get('embedding_dim', 300)\n",
    "        self.target_dim = param_dict.get('target_dim', 50)\n",
    "        self.n_neurons=param_dict.get('n_neurons',30)\n",
    "        self.batch_size=param_dict.get('batch_size',64)\n",
    "        self.num_layers=param_dict.get('num_layers',30)\n",
    "\n",
    "#bidirectional LSTM \n",
    "    \n",
    "class MyModel(nn.Module):\n",
    "    def __init__(self, model_param: ModelParam):\n",
    "        super().__init__()\n",
    "        self.embedding = nn.Embedding(\n",
    "            model_param.vocab_size, \n",
    "            model_param.embedding_dim\n",
    "        )\n",
    "        self.lstm = nn.LSTM(model_param.embedding_dim,model_param.hidden_size, bidirectional=True, batch_first=True)\n",
    "        self.linear=nn.Linear(model_param.hidden_size*4,model_param.batch_size)\n",
    "        self.lin = nn.Linear(model_param.batch_size, \n",
    "            model_param.target_dim\n",
    "        )\n",
    "        \n",
    "    def forward(self, x):\n",
    "        features = self.embedding(x)\n",
    "        h_lstm, _ = self.lstm(features)\n",
    "        avg_pool=torch.mean(h_lstm,1)\n",
    "        max_pool= torch.mean(h_lstm, 1)\n",
    "        conc = torch.cat(( avg_pool, max_pool), 1)\n",
    "        conc = self.linear(conc)\n",
    "        out = self.lin(conc)\n",
    "        return out"
   ]
  },
  {
   "cell_type": "code",
   "execution_count": 59,
   "metadata": {},
   "outputs": [],
   "source": [
    "#a function to get accuracy\n",
    "def get_accuracy(logit, target, batch_size):\n",
    "    ''' Obtain accuracy for training round '''\n",
    "    corrects = (torch.max(logit, 1)[1].view(target.size()).data == target.data).sum()\n",
    "    accuracy = 100.0 * corrects/batch_size\n",
    "    return accuracy.item()\n",
    "\n",
    "#modelling function by varying hidden size\n",
    "def modelling(h_size):\n",
    "    model_param = ModelParam(\n",
    "        param_dict=dict(\n",
    "            vocab_size=len(text_field.vocab),\n",
    "            input_size=5,\n",
    "            hidden_size=h_size\n",
    "        )\n",
    "    )\n",
    "    model = MyModel(model_param)\n",
    "    loss_function = nn.CrossEntropyLoss()\n",
    "    optimizer = torch.optim.Adam(model.parameters(), lr=0.001)\n",
    "    epochs = 25\n",
    "    \n",
    "    test_acc=[]\n",
    "    epoch_num=[]\n",
    "    train_acc=[]\n",
    "    for epoch in range(epochs):\n",
    "        epoch_num.append(epoch)\n",
    "        test_accuracy=0.0\n",
    "        train_accuracy=0.0\n",
    "\n",
    "        epoch_losses = list()\n",
    "        for i,batch in enumerate(train_iter):\n",
    "            optimizer.zero_grad()\n",
    "\n",
    "            prediction = model(batch.text.T)\n",
    "            loss = loss_function(prediction, batch.label)\n",
    "\n",
    "            loss.backward()\n",
    "            optimizer.step()\n",
    "\n",
    "            epoch_losses.append(loss.item())\n",
    "            train_accuracy += get_accuracy(prediction, batch.label, 128)\n",
    "\n",
    "        test_losses = list()\n",
    "        for j,batch in enumerate(test_iter):\n",
    "            with torch.no_grad():\n",
    "                optimizer.zero_grad()\n",
    "                prediction = model(batch.text.T)\n",
    "                loss = loss_function(prediction, batch.label)\n",
    "\n",
    "                test_losses.append(loss.item())\n",
    "                test_accuracy += get_accuracy(prediction, batch.label, 128)\n",
    "\n",
    "        test_acc.append(test_accuracy/j)\n",
    "        train_acc.append(train_accuracy/i)\n",
    "        \n",
    "    return epoch_num, test_acc, train_acc"
   ]
  },
  {
   "cell_type": "code",
   "execution_count": 60,
   "metadata": {},
   "outputs": [],
   "source": [
    "epoch_50, train_acc_50, test_acc_50=modelling(50)\n",
    "epoch_100, train_acc_100, test_acc_100=modelling(100)\n",
    "epoch_150, train_acc_150, test_acc_150=modelling(150)\n",
    "epoch_300, train_acc_300, test_acc_300=modelling(300)"
   ]
  },
  {
   "cell_type": "code",
   "execution_count": 61,
   "metadata": {},
   "outputs": [],
   "source": [
    "epoch_num=[i+1 for i in epoch_50]"
   ]
  },
  {
   "cell_type": "code",
   "execution_count": 62,
   "metadata": {},
   "outputs": [],
   "source": [
    "df_plotting = pd.DataFrame(list(zip(epoch_num, test_acc_50, test_acc_100, test_acc_150, test_acc_300)), index =epoch_50,\n",
    "                                              columns =['Epoch','h=50','h=100','h=150','h=300'])"
   ]
  },
  {
   "cell_type": "code",
   "execution_count": 63,
   "metadata": {},
   "outputs": [
    {
     "data": {
      "image/png": "[encoded data removed]",
      "text/plain": [
       "<Figure size 960x800 with 1 Axes>"
      ]
     },
     "metadata": {
      "needs_background": "light"
     },
     "output_type": "display_data"
    }
   ],
   "source": [
    "#plot showing different test accuracy values as the hidden size is changed \n",
    "\n",
    "import matplotlib.pyplot as plt\n",
    "from matplotlib.pyplot import figure\n",
    "\n",
    "figure(figsize=(12, 10), dpi=80)\n",
    "  \n",
    "'h=50','h=100','h=150','h=300'\n",
    "plt.plot(df_plotting[\"Epoch\"],df_plotting['h=50'] , label = \"Hidden Size=50\")\n",
    "plt.plot(df_plotting[\"Epoch\"], df_plotting['h=100'], label = \"Hidden Size=100\")\n",
    "plt.plot(df_plotting[\"Epoch\"], df_plotting['h=150'], label = \"Hidden Size=150\")\n",
    "plt.plot(df_plotting[\"Epoch\"], df_plotting['h=300'], label = \"Hidden Size=300\")\n",
    "plt.ylim(0,70)\n",
    "plt.legend()\n",
    "plt.savefig('Deep Neural Network Experiments')\n",
    "plt.show()"
   ]
  },
  {
   "cell_type": "markdown",
   "metadata": {},
   "source": [
    "## Gutenberg dataset"
   ]
  },
  {
   "cell_type": "code",
   "execution_count": 2,
   "metadata": {},
   "outputs": [
    {
     "data": {
      "text/plain": [
       "202548"
      ]
     },
     "execution_count": 2,
     "metadata": {},
     "output_type": "execute_result"
    }
   ],
   "source": [
    "#creating a train dataframe to get the author's names and text from each file in the C50 dataset\n",
    "\n",
    "gutenberg = pd.DataFrame()\n",
    "df = pd.DataFrame()\n",
    "for _, filepath in enumerate(glob.iglob('Gutenberg/*/*.txt')):\n",
    "    df = pd.read_csv(filepath, delimiter=\"\\t\", header = None, error_bad_lines=False, quoting = csv.QUOTE_NONE, encoding='ISO-8859-1')\n",
    "    df['Author'] = filepath.split(\"/\")[1]\n",
    "    dataframe = [gutenberg, df]\n",
    "    gutenberg = pd.concat(dataframe)\n",
    "    \n",
    "gutenberg.rename(columns={ 0 : 'Text'}, inplace=True)\n",
    "gutenberg['Text'].nunique()"
   ]
  },
  {
   "cell_type": "markdown",
   "metadata": {
    "id": "ItKzBE801P0d"
   },
   "source": [
    "# Data Pre-Processing\n",
    "\n",
    "In order to perform a classification task and checking how acurate our model is, we need to encode the text which is interpretable by the computer. This encoding depends on the model we want to use. We will start with discriminative neural network model and use the strategy described in paper: https://web.stanford.edu/class/archive/cs/cs224n/cs224n.1174/reports/2760185.pdf\n",
    "\n",
    "## Word Representations \n",
    "\n",
    "The authors used GloVe word vectors of size 50 as the pretrained word embeddings. The GloVe vectors were then used to initialize the word embeddings and the gradient are propagated tp the embeddings. \n"
   ]
  },
  {
   "cell_type": "code",
   "execution_count": 3,
   "metadata": {
    "colab": {
     "base_uri": "https://localhost:8080/",
     "height": 206
    },
    "id": "nqUn4C8kEcf5",
    "outputId": "b0a5f8bc-58f3-4ff5-dd5c-96a38d0cab1a"
   },
   "outputs": [
    {
     "data": {
      "text/html": [
       "<div>\n",
       "<style scoped>\n",
       "    .dataframe tbody tr th:only-of-type {\n",
       "        vertical-align: middle;\n",
       "    }\n",
       "\n",
       "    .dataframe tbody tr th {\n",
       "        vertical-align: top;\n",
       "    }\n",
       "\n",
       "    .dataframe thead th {\n",
       "        text-align: right;\n",
       "    }\n",
       "</style>\n",
       "<table border=\"1\" class=\"dataframe\">\n",
       "  <thead>\n",
       "    <tr style=\"text-align: right;\">\n",
       "      <th></th>\n",
       "      <th>Text</th>\n",
       "      <th>Author_Num</th>\n",
       "    </tr>\n",
       "  </thead>\n",
       "  <tbody>\n",
       "    <tr>\n",
       "      <th>0</th>\n",
       "      <td>[Persuasion by Jane Austen 1818]</td>\n",
       "      <td>2</td>\n",
       "    </tr>\n",
       "    <tr>\n",
       "      <th>1</th>\n",
       "      <td>Chapter 1</td>\n",
       "      <td>2</td>\n",
       "    </tr>\n",
       "    <tr>\n",
       "      <th>2</th>\n",
       "      <td>Sir Walter Elliot, of Kellynch Hall, in Somers...</td>\n",
       "      <td>2</td>\n",
       "    </tr>\n",
       "    <tr>\n",
       "      <th>3</th>\n",
       "      <td>for his own amusement, never took up any book ...</td>\n",
       "      <td>2</td>\n",
       "    </tr>\n",
       "    <tr>\n",
       "      <th>4</th>\n",
       "      <td>there he found occupation for an idle hour, an...</td>\n",
       "      <td>2</td>\n",
       "    </tr>\n",
       "  </tbody>\n",
       "</table>\n",
       "</div>"
      ],
      "text/plain": [
       "                                                Text  Author_Num\n",
       "0                   [Persuasion by Jane Austen 1818]           2\n",
       "1                                          Chapter 1           2\n",
       "2  Sir Walter Elliot, of Kellynch Hall, in Somers...           2\n",
       "3  for his own amusement, never took up any book ...           2\n",
       "4  there he found occupation for an idle hour, an...           2"
      ]
     },
     "execution_count": 3,
     "metadata": {},
     "output_type": "execute_result"
    }
   ],
   "source": [
    "# starting by creating a new column for the dataframe representing authors as numbers \n",
    "\n",
    "author_number = sorted(gutenberg['Author'].unique())\n",
    "dictOfAuthors = { i : author_number[i] for i in range(0, len(author_number) ) }\n",
    "dict_num = {value:key for key, value in dictOfAuthors.items()}\n",
    "gutenberg['Author_Num'] = gutenberg['Author'].map(dict_num)\n",
    "\n",
    "#dropping author_num\n",
    "\n",
    "gutenberg.drop(columns=\"Author\", inplace=True)\n",
    "gutenberg.head()"
   ]
  },
  {
   "cell_type": "code",
   "execution_count": 4,
   "metadata": {
    "id": "2GfSkn--Cwyn"
   },
   "outputs": [],
   "source": [
    "#using the GloVe word embedding system as mentioned in the paper \n",
    "\n",
    "from torchtext.vocab import GloVe\n",
    "from torchtext.legacy.data import Field\n",
    "\n",
    "text_field = Field(\n",
    "    sequential=True,\n",
    "    tokenize='basic_english', \n",
    "    fix_length=5,\n",
    "    lower=True\n",
    ")\n",
    "label_field = Field(sequential=False, use_vocab=False)\n",
    "\n",
    "preprocessed_text = gutenberg['Text'].apply(\n",
    "    lambda x: text_field.preprocess(x)\n",
    ")\n",
    "\n",
    "text_field.build_vocab(\n",
    "    preprocessed_text, \n",
    "    vectors='fasttext.simple.300d'\n",
    ")\n",
    "\n",
    "# getting the vocab instance\n",
    "vocab = text_field.vocab"
   ]
  },
  {
   "cell_type": "code",
   "execution_count": 5,
   "metadata": {
    "id": "EShyXvaADl1o"
   },
   "outputs": [
    {
     "data": {
      "text/plain": [
       "tensor([[ 0.0000,  0.0000,  0.0000,  ...,  0.0000,  0.0000,  0.0000],\n",
       "        [ 0.0000,  0.0000,  0.0000,  ...,  0.0000,  0.0000,  0.0000],\n",
       "        [ 0.2013,  0.0104,  0.1623,  ..., -0.0931, -0.1408, -0.1326],\n",
       "        ...,\n",
       "        [ 0.0000,  0.0000,  0.0000,  ...,  0.0000,  0.0000,  0.0000],\n",
       "        [ 0.0000,  0.0000,  0.0000,  ...,  0.0000,  0.0000,  0.0000],\n",
       "        [ 0.2399, -0.3645, -0.0732,  ...,  0.1944, -0.5970,  0.2444]])"
      ]
     },
     "execution_count": 5,
     "metadata": {},
     "output_type": "execute_result"
    }
   ],
   "source": [
    "vocab.vectors"
   ]
  },
  {
   "cell_type": "code",
   "execution_count": 6,
   "metadata": {},
   "outputs": [],
   "source": [
    "from torchtext.legacy.data import Dataset, Example\n",
    "\n",
    "ltoi = {l: i for i, l in enumerate(gutenberg['Author_Num'].unique())}\n",
    "gutenberg['Author_Num'] = gutenberg['Author_Num'].apply(lambda y: ltoi[y])\n",
    "\n",
    "#create a new class to split into train and test and create iterators\n",
    "class DataFrameDataset(Dataset):\n",
    "    def __init__(self, df: pd.DataFrame, fields: list):\n",
    "        super(DataFrameDataset, self).__init__(\n",
    "            [\n",
    "                Example.fromlist(list(r), fields) \n",
    "                for i, r in df.iterrows()\n",
    "            ], \n",
    "            fields\n",
    "        )"
   ]
  },
  {
   "cell_type": "code",
   "execution_count": 7,
   "metadata": {},
   "outputs": [],
   "source": [
    "#90:10 split as mentioned in the paper\n",
    "\n",
    "train_dataset, test_dataset = DataFrameDataset(\n",
    "    df=gutenberg, \n",
    "    fields=(\n",
    "        ('text', text_field),\n",
    "        ('label', label_field)\n",
    "    )\n",
    ").split()"
   ]
  },
  {
   "cell_type": "code",
   "execution_count": 8,
   "metadata": {},
   "outputs": [],
   "source": [
    "#creating iterators for further training and test the model \n",
    "\n",
    "from torchtext.legacy.data import BucketIterator\n",
    "train_iter, test_iter = BucketIterator.splits(\n",
    "    datasets=(train_dataset, test_dataset), \n",
    "    batch_size=128,\n",
    "    sort=False\n",
    ")"
   ]
  },
  {
   "cell_type": "code",
   "execution_count": 9,
   "metadata": {},
   "outputs": [],
   "source": [
    "#creating the deep neural network model\n",
    "\n",
    "import torch.nn as nn\n",
    "import torch.nn.functional as F\n",
    "from torch.optim import Adam\n",
    "\n",
    "#defining parameters\n",
    "\n",
    "class ModelParam(object):\n",
    "    def __init__(self, param_dict: dict = dict()):\n",
    "        self.input_size = param_dict.get('input_size', 0)\n",
    "        self.vocab_size = param_dict.get('vocab_size')\n",
    "        self.hidden_size = param_dict.get('hidden_size')\n",
    "        self.embedding_dim = param_dict.get('embedding_dim', 300)\n",
    "        self.target_dim = param_dict.get('target_dim', 50)\n",
    "        self.n_neurons=param_dict.get('n_neurons',30)\n",
    "        self.batch_size=param_dict.get('batch_size',64)\n",
    "        self.num_layers=param_dict.get('num_layers',30)\n",
    "\n",
    "#bidirectional LSTM \n",
    "    \n",
    "class MyModel(nn.Module):\n",
    "    def __init__(self, model_param: ModelParam):\n",
    "        super().__init__()\n",
    "        self.embedding = nn.Embedding(model_param.vocab_size, model_param.embedding_dim)\n",
    "        self.relu = nn.ReLU()\n",
    "        self.lstm = nn.LSTM(model_param.embedding_dim,model_param.hidden_size, bidirectional=True, batch_first=True)\n",
    "        self.linear=nn.Linear(model_param.hidden_size*4,model_param.batch_size)\n",
    "        self.lin = nn.Linear(model_param.batch_size, model_param.target_dim)\n",
    "        self.softmax = nn.Softmax(dim=1)\n",
    "        \n",
    "    def forward(self, x):\n",
    "        features = self.embedding(x)\n",
    "        h_lstm, _ = self.lstm(features)\n",
    "        avg_pool=torch.mean(h_lstm,1)\n",
    "        max_pool,_= torch.max(h_lstm, 1)\n",
    "        conc = torch.cat(( avg_pool, max_pool), 1)\n",
    "        conc = self.linear(conc)\n",
    "        lin_output = self.lin(conc)\n",
    "        out=self.softmax(lin_output)\n",
    "        \n",
    "        return out"
   ]
  },
  {
   "cell_type": "code",
   "execution_count": 10,
   "metadata": {},
   "outputs": [],
   "source": [
    "#a function to get accuracy\n",
    "def get_accuracy(logit, target, batch_size):\n",
    "    ''' Obtain accuracy for training round '''\n",
    "    corrects = (torch.max(logit, 1)[1].view(target.size()).data == target.data).sum()\n",
    "    accuracy = 100.0 * corrects/batch_size\n",
    "    return accuracy.item()\n",
    "\n",
    "#modelling function by varying hidden size\n",
    "def modelling(h_size):\n",
    "    model_param = ModelParam(\n",
    "        param_dict=dict(\n",
    "            vocab_size=len(text_field.vocab),\n",
    "            input_size=5,\n",
    "            hidden_size=h_size\n",
    "        )\n",
    "    )\n",
    "    model = MyModel(model_param)\n",
    "    loss_function = nn.CrossEntropyLoss()\n",
    "    optimizer = torch.optim.Adam(model.parameters(), lr=0.001)\n",
    "    epochs = 25\n",
    "    \n",
    "    test_acc=[]\n",
    "    epoch_num=[]\n",
    "    train_acc=[]\n",
    "    for epoch in range(epochs):\n",
    "        epoch_num.append(epoch)\n",
    "        test_accuracy=0.0\n",
    "        train_accuracy=0.0\n",
    "\n",
    "        epoch_losses = list()\n",
    "        for i,batch in enumerate(train_iter):\n",
    "            optimizer.zero_grad()\n",
    "\n",
    "            prediction = model(batch.text.T)\n",
    "            loss = loss_function(prediction, batch.label)\n",
    "\n",
    "            loss.backward()\n",
    "            optimizer.step()\n",
    "\n",
    "            epoch_losses.append(loss.item())\n",
    "            train_accuracy += get_accuracy(prediction, batch.label, 128)\n",
    "\n",
    "        test_losses = list()\n",
    "        for j,batch in enumerate(test_iter):\n",
    "            with torch.no_grad():\n",
    "                optimizer.zero_grad()\n",
    "                prediction = model(batch.text.T)\n",
    "                loss = loss_function(prediction, batch.label)\n",
    "\n",
    "                test_losses.append(loss.item())\n",
    "                test_accuracy += get_accuracy(prediction, batch.label, 128)\n",
    "\n",
    "        \n",
    "        train_acc.append(train_accuracy/i)\n",
    "        test_acc.append(test_accuracy/j)\n",
    "        \n",
    "    return epoch_num, test_acc, train_acc"
   ]
  },
  {
   "cell_type": "code",
   "execution_count": 18,
   "metadata": {},
   "outputs": [],
   "source": [
    "epoch_50, test_50, train_50=modelling(50)\n",
    "epoch_50, test_50, train_50=modelling(100)\n",
    "epoch_50, test_50, train_50=modelling(150)\n",
    "epoch_50, test_50, train_50=modelling(300)"
   ]
  },
  {
   "cell_type": "code",
   "execution_count": null,
   "metadata": {},
   "outputs": [],
   "source": [
    "epoch_num=[i+1 for i in epoch_50]"
   ]
  },
  {
   "cell_type": "code",
   "execution_count": 23,
   "metadata": {},
   "outputs": [],
   "source": [
    "df_plotting = pd.DataFrame(list(zip(epoch_num, test_50, test_100, test_150, test_300)), index =epoch_50,\n",
    "                                              columns =['Epoch','h=50','h=100','h=150','h=300'])"
   ]
  },
  {
   "cell_type": "code",
   "execution_count": 40,
   "metadata": {},
   "outputs": [
    {
     "data": {
      "image/png": "[encoded data removed]",
      "text/plain": [
       "<Figure size 960x800 with 1 Axes>"
      ]
     },
     "metadata": {
      "needs_background": "light"
     },
     "output_type": "display_data"
    }
   ],
   "source": [
    "#plot showing different test accuracy values as the hidden size is changed \n",
    "\n",
    "import matplotlib.pyplot as plt\n",
    "from matplotlib.pyplot import figure\n",
    "\n",
    "figure(figsize=(12, 10), dpi=80)\n",
    "  \n",
    "'h=50','h=100','h=150','h=300'\n",
    "plt.plot(df_plotting[\"Epoch\"],df_plotting['h=50'] , label = \"Hidden Size=50\")\n",
    "plt.plot(df_plotting[\"Epoch\"], df_plotting['h=100'], label = \"Hidden Size=100\")\n",
    "plt.plot(df_plotting[\"Epoch\"], df_plotting['h=150'], label = \"Hidden Size=150\")\n",
    "plt.plot(df_plotting[\"Epoch\"], df_plotting['h=300'], label = \"Hidden Size=300\")\n",
    "plt.ylim(0,90)\n",
    "plt.legend()\n",
    "plt.savefig('gutenberg.jpg')\n",
    "plt.show()"
   ]
  },
  {
   "cell_type": "markdown",
   "metadata": {},
   "source": [
    "## References\n",
    "\n",
    "\n",
    "1. Deep Learning based Authorship Identification, Chen Qian and Ting He and Ren Zhang, 2017 \n",
    "\n",
    "2. Abbasi, A., Javed, A.R., Iqbal, F. et al. Authorship identification using ensemble learning. Sci Rep 12, 9537 (2022). https://doi.org/10.1038/s41598-022-13690-4\n",
    "\n",
    "3. Kurtukova, A.V.; Romanov, A.S. Identification author of source code by machine learning methods. Trudy SPIIRAN 2019, 18, 741–765\n",
    "\n",
    "4. Scikit learn library Documentation. https://scikit-learn.org/\n",
    "\n",
    "5. Library Documentation. https://pytorch.org/"
   ]
  }
 ],
 "metadata": {
  "colab": {
   "provenance": []
  },
  "kernelspec": {
   "display_name": "Python 3 (ipykernel)",
   "language": "python",
   "name": "python3"
  },
  "language_info": {
   "codemirror_mode": {
    "name": "ipython",
    "version": 3
   },
   "file_extension": ".py",
   "mimetype": "text/x-python",
   "name": "python",
   "nbconvert_exporter": "python",
   "pygments_lexer": "ipython3",
   "version": "3.8.8"
  }
 },
 "nbformat": 4,
 "nbformat_minor": 1
}
